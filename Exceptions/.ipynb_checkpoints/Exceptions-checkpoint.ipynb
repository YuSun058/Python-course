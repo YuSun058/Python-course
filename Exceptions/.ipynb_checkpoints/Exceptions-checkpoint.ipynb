{
 "cells": [
  {
   "cell_type": "markdown",
   "id": "happy-plant",
   "metadata": {},
   "source": [
    "## Exceptions"
   ]
  },
  {
   "cell_type": "markdown",
   "id": "specialized-objective",
   "metadata": {},
   "source": [
    "Errors that terminate the execution of the program. "
   ]
  },
  {
   "cell_type": "code",
   "execution_count": 1,
   "id": "characteristic-candidate",
   "metadata": {},
   "outputs": [
    {
     "ename": "IndexError",
     "evalue": "list index out of range",
     "output_type": "error",
     "traceback": [
      "\u001b[1;31m---------------------------------------------------------------------------\u001b[0m",
      "\u001b[1;31mIndexError\u001b[0m                                Traceback (most recent call last)",
      "\u001b[1;32m<ipython-input-1-4c8c4a570c57>\u001b[0m in \u001b[0;36m<module>\u001b[1;34m\u001b[0m\n\u001b[0;32m      1\u001b[0m \u001b[0mnumbers\u001b[0m \u001b[1;33m=\u001b[0m \u001b[1;33m[\u001b[0m\u001b[1;36m1\u001b[0m\u001b[1;33m,\u001b[0m \u001b[1;36m2\u001b[0m\u001b[1;33m]\u001b[0m\u001b[1;33m\u001b[0m\u001b[1;33m\u001b[0m\u001b[0m\n\u001b[1;32m----> 2\u001b[1;33m \u001b[0mprint\u001b[0m\u001b[1;33m(\u001b[0m\u001b[0mnumbers\u001b[0m\u001b[1;33m[\u001b[0m\u001b[1;36m3\u001b[0m\u001b[1;33m]\u001b[0m\u001b[1;33m)\u001b[0m\u001b[1;33m\u001b[0m\u001b[1;33m\u001b[0m\u001b[0m\n\u001b[0m",
      "\u001b[1;31mIndexError\u001b[0m: list index out of range"
     ]
    }
   ],
   "source": [
    "numbers = [1, 2]\n",
    "print(numbers[3])"
   ]
  },
  {
   "cell_type": "code",
   "execution_count": 2,
   "id": "verified-breast",
   "metadata": {},
   "outputs": [
    {
     "name": "stdout",
     "output_type": "stream",
     "text": [
      "Age: app\n"
     ]
    },
    {
     "ename": "ValueError",
     "evalue": "invalid literal for int() with base 10: 'app'",
     "output_type": "error",
     "traceback": [
      "\u001b[1;31m---------------------------------------------------------------------------\u001b[0m",
      "\u001b[1;31mValueError\u001b[0m                                Traceback (most recent call last)",
      "\u001b[1;32m<ipython-input-2-b84953505461>\u001b[0m in \u001b[0;36m<module>\u001b[1;34m\u001b[0m\n\u001b[1;32m----> 1\u001b[1;33m \u001b[0mage\u001b[0m \u001b[1;33m=\u001b[0m \u001b[0mint\u001b[0m\u001b[1;33m(\u001b[0m\u001b[0minput\u001b[0m\u001b[1;33m(\u001b[0m\u001b[1;34m\"Age: \"\u001b[0m\u001b[1;33m)\u001b[0m\u001b[1;33m)\u001b[0m\u001b[1;33m\u001b[0m\u001b[1;33m\u001b[0m\u001b[0m\n\u001b[0m",
      "\u001b[1;31mValueError\u001b[0m: invalid literal for int() with base 10: 'app'"
     ]
    }
   ],
   "source": [
    "age = int(input(\"Age: \"))"
   ]
  },
  {
   "cell_type": "markdown",
   "id": "unsigned-transfer",
   "metadata": {},
   "source": [
    "## Handling Exceptions"
   ]
  },
  {
   "cell_type": "code",
   "execution_count": 5,
   "id": "alternative-baking",
   "metadata": {},
   "outputs": [
    {
     "name": "stdout",
     "output_type": "stream",
     "text": [
      "Age: app\n",
      "You didn't enter a valid age.\n",
      "Execution continues.\n"
     ]
    }
   ],
   "source": [
    "try:\n",
    "    age = int(input(\"Age: \"))\n",
    "    print(age)\n",
    "except ValueError:\n",
    "    print(\"You didn't enter a valid age.\")\n",
    "print(\"Execution continues.\")"
   ]
  },
  {
   "cell_type": "code",
   "execution_count": 7,
   "id": "marine-dominant",
   "metadata": {},
   "outputs": [
    {
     "name": "stdout",
     "output_type": "stream",
     "text": [
      "Age: 10\n",
      "10\n",
      "No exceptions were thrown.\n",
      "Execution continues.\n"
     ]
    }
   ],
   "source": [
    "try:\n",
    "    age = int(input(\"Age: \"))\n",
    "    print(age)\n",
    "except ValueError:\n",
    "    print(\"You didn't enter a valid age.\")\n",
    "else: # if no errors, like for...else...\n",
    "    print(\"No exceptions were thrown.\")\n",
    "print(\"Execution continues.\")"
   ]
  },
  {
   "cell_type": "code",
   "execution_count": 8,
   "id": "yellow-carry",
   "metadata": {},
   "outputs": [
    {
     "name": "stdout",
     "output_type": "stream",
     "text": [
      "Age: app\n",
      "You didn't enter a valid age.\n",
      "invalid literal for int() with base 10: 'app'\n",
      "<class 'ValueError'>\n",
      "Execution continues.\n"
     ]
    }
   ],
   "source": [
    "# Tell the exception message\n",
    "try:\n",
    "    age = int(input(\"Age: \"))\n",
    "    print(age)\n",
    "except ValueError as ex:\n",
    "    print(\"You didn't enter a valid age.\")\n",
    "    print(ex)\n",
    "    print(type(ex))\n",
    "else:\n",
    "    print(\"No exceptions were thrown.\")\n",
    "print(\"Execution continues.\")"
   ]
  },
  {
   "cell_type": "markdown",
   "id": "above-factor",
   "metadata": {},
   "source": [
    "## Handling Different Exceptions"
   ]
  },
  {
   "cell_type": "code",
   "execution_count": 10,
   "id": "cellular-bobby",
   "metadata": {},
   "outputs": [
    {
     "name": "stdout",
     "output_type": "stream",
     "text": [
      "Age: 0\n"
     ]
    },
    {
     "ename": "ZeroDivisionError",
     "evalue": "division by zero",
     "output_type": "error",
     "traceback": [
      "\u001b[1;31m---------------------------------------------------------------------------\u001b[0m",
      "\u001b[1;31mZeroDivisionError\u001b[0m                         Traceback (most recent call last)",
      "\u001b[1;32m<ipython-input-10-7f5e8f27f8d8>\u001b[0m in \u001b[0;36m<module>\u001b[1;34m\u001b[0m\n\u001b[0;32m      1\u001b[0m \u001b[1;32mtry\u001b[0m\u001b[1;33m:\u001b[0m\u001b[1;33m\u001b[0m\u001b[1;33m\u001b[0m\u001b[0m\n\u001b[0;32m      2\u001b[0m     \u001b[0mage\u001b[0m \u001b[1;33m=\u001b[0m \u001b[0mint\u001b[0m\u001b[1;33m(\u001b[0m\u001b[0minput\u001b[0m\u001b[1;33m(\u001b[0m\u001b[1;34m\"Age: \"\u001b[0m\u001b[1;33m)\u001b[0m\u001b[1;33m)\u001b[0m\u001b[1;33m\u001b[0m\u001b[1;33m\u001b[0m\u001b[0m\n\u001b[1;32m----> 3\u001b[1;33m     \u001b[0mxfactor\u001b[0m \u001b[1;33m=\u001b[0m \u001b[1;36m10\u001b[0m \u001b[1;33m/\u001b[0m \u001b[0mage\u001b[0m\u001b[1;33m\u001b[0m\u001b[1;33m\u001b[0m\u001b[0m\n\u001b[0m\u001b[0;32m      4\u001b[0m \u001b[1;32mexcept\u001b[0m \u001b[0mValueError\u001b[0m\u001b[1;33m:\u001b[0m\u001b[1;33m\u001b[0m\u001b[1;33m\u001b[0m\u001b[0m\n\u001b[0;32m      5\u001b[0m     \u001b[0mprint\u001b[0m\u001b[1;33m(\u001b[0m\u001b[1;34m\"You didn't enter a valid age.\"\u001b[0m\u001b[1;33m)\u001b[0m\u001b[1;33m\u001b[0m\u001b[1;33m\u001b[0m\u001b[0m\n",
      "\u001b[1;31mZeroDivisionError\u001b[0m: division by zero"
     ]
    }
   ],
   "source": [
    "try:\n",
    "    age = int(input(\"Age: \"))\n",
    "    xfactor = 10 / age\n",
    "except ValueError:\n",
    "    print(\"You didn't enter a valid age.\")\n",
    "else:\n",
    "    print(\"No exceptions were thrown.\")"
   ]
  },
  {
   "cell_type": "markdown",
   "id": "coordinate-blowing",
   "metadata": {},
   "source": [
    "But we don't have *ZeroDivisionError* in the code, because we only handle *ValueError* in the code."
   ]
  },
  {
   "cell_type": "code",
   "execution_count": 11,
   "id": "occupational-cattle",
   "metadata": {},
   "outputs": [
    {
     "name": "stdout",
     "output_type": "stream",
     "text": [
      "Age: 0\n",
      "Age cannot be 0.\n"
     ]
    }
   ],
   "source": [
    "try:\n",
    "    age = int(input(\"Age: \"))\n",
    "    xfactor = 10 / age\n",
    "except ValueError:\n",
    "    print(\"You didn't enter a valid age.\")\n",
    "except ZeroDivisionError:\n",
    "    print(\"Age cannot be 0.\")\n",
    "else:\n",
    "    print(\"No exceptions were thrown.\")"
   ]
  },
  {
   "cell_type": "code",
   "execution_count": 12,
   "id": "revised-confusion",
   "metadata": {},
   "outputs": [
    {
     "name": "stdout",
     "output_type": "stream",
     "text": [
      "Age: 0\n",
      "You didn't enter a valid age.\n"
     ]
    }
   ],
   "source": [
    "try:\n",
    "    age = int(input(\"Age: \"))\n",
    "    xfactor = 10 / age\n",
    "except ValueError:\n",
    "    print(\"You didn't enter a valid age.\")\n",
    "except ZeroDivisionError:\n",
    "    print(\"You didn't enter a valid age.\")\n",
    "else:\n",
    "    print(\"No exceptions were thrown.\")"
   ]
  },
  {
   "cell_type": "code",
   "execution_count": 13,
   "id": "european-attention",
   "metadata": {},
   "outputs": [
    {
     "name": "stdout",
     "output_type": "stream",
     "text": [
      "Age: 0\n",
      "You didn't enter a valid age.\n"
     ]
    }
   ],
   "source": [
    "try:\n",
    "    age = int(input(\"Age: \"))\n",
    "    xfactor = 10 / age\n",
    "except (ValueError, ZeroDivisionError):\n",
    "    print(\"You didn't enter a valid age.\")\n",
    "except ZeroDivisionError:\n",
    "    print(\"You didn't enter a valid age.\")\n",
    "else:\n",
    "    print(\"No exceptions were thrown.\")"
   ]
  },
  {
   "cell_type": "code",
   "execution_count": 14,
   "id": "descending-hypothesis",
   "metadata": {},
   "outputs": [
    {
     "name": "stdout",
     "output_type": "stream",
     "text": [
      "Age: 0\n",
      "You didn't enter a valid age.\n"
     ]
    }
   ],
   "source": [
    "# Because the message only occurs once, thus the tuple is enough.\n",
    "try:\n",
    "    age = int(input(\"Age: \"))\n",
    "    xfactor = 10 / age\n",
    "except (ValueError, ZeroDivisionError):\n",
    "    print(\"You didn't enter a valid age.\")\n",
    "else:\n",
    "    print(\"No exceptions were thrown.\")"
   ]
  },
  {
   "cell_type": "markdown",
   "id": "processed-wonder",
   "metadata": {},
   "source": [
    "## Cleaning Up"
   ]
  },
  {
   "cell_type": "markdown",
   "id": "stock-acquisition",
   "metadata": {},
   "source": [
    "For example, after opening a file, we need to close it down. Otherwise, other programs may not be able to open that file."
   ]
  },
  {
   "cell_type": "code",
   "execution_count": 16,
   "id": "therapeutic-possession",
   "metadata": {},
   "outputs": [
    {
     "name": "stdout",
     "output_type": "stream",
     "text": [
      "Age: 0\n",
      "You didn't enter a valid age.\n"
     ]
    }
   ],
   "source": [
    "try:\n",
    "    file = open(\"app.txt\")\n",
    "    age = int(input(\"Age: \"))\n",
    "    xfactor = 10 / age\n",
    "    file.close()\n",
    "except (ValueError, ZeroDivisionError):\n",
    "    print(\"You didn't enter a valid age.\")\n",
    "else:\n",
    "    print(\"No exceptions were thrown.\")"
   ]
  },
  {
   "cell_type": "markdown",
   "id": "advised-simpson",
   "metadata": {},
   "source": [
    "The problem is that if there is an exception, we won't execute *file.close()*. Of course, we can duplicate this line in the *else* part. But it's not a good practice. The solution is to use a *finally* clause."
   ]
  },
  {
   "cell_type": "code",
   "execution_count": 17,
   "id": "reported-manhattan",
   "metadata": {},
   "outputs": [
    {
     "name": "stdout",
     "output_type": "stream",
     "text": [
      "Age: 2\n",
      "No exceptions were thrown.\n"
     ]
    }
   ],
   "source": [
    "try:\n",
    "    file = open(\"app.txt\")\n",
    "    age = int(input(\"Age: \"))\n",
    "    xfactor = 10 / age\n",
    "except (ValueError, ZeroDivisionError):\n",
    "    print(\"You didn't enter a valid age.\")\n",
    "else:\n",
    "    print(\"No exceptions were thrown.\")\n",
    "finally: # we use it to release the file object, database connections and so on.\n",
    "    file.close()"
   ]
  },
  {
   "cell_type": "markdown",
   "id": "reported-empire",
   "metadata": {},
   "source": [
    "## The With Statement"
   ]
  },
  {
   "cell_type": "markdown",
   "id": "emerging-configuration",
   "metadata": {},
   "source": [
    "In the last section, we use *finally* to release external resources. We have a cleaner and shorter way to achieve the same thing without the *finally* clause. It works with certain kinds of objects."
   ]
  },
  {
   "cell_type": "code",
   "execution_count": 18,
   "id": "productive-picture",
   "metadata": {},
   "outputs": [
    {
     "name": "stdout",
     "output_type": "stream",
     "text": [
      "File opened.\n",
      "Age: 2\n",
      "No exceptions were thrown.\n"
     ]
    }
   ],
   "source": [
    "try:\n",
    "    with open(\"app.txt\") as file: \n",
    "        # whenever we open an object with 'with', \n",
    "        # Python will automatically close it even without a 'finally' statement\n",
    "        print(\"File opened.\")\n",
    "    age = int(input(\"Age: \"))\n",
    "    xfactor = 10 / age\n",
    "except (ValueError, ZeroDivisionError):\n",
    "    print(\"You didn't enter a valid age.\")\n",
    "else:\n",
    "    print(\"No exceptions were thrown.\")"
   ]
  },
  {
   "cell_type": "markdown",
   "id": "comprehensive-tennis",
   "metadata": {},
   "source": [
    "The *with* statement is used to automatically release external resources. Because the file object has *file.\\_\\_enter__* and *file.\\_\\_exit__*, two magic methods. When an object has these two methods, we say that object supports **context management protocal**, then we can use the object with the *with* statement."
   ]
  },
  {
   "cell_type": "markdown",
   "id": "honest-director",
   "metadata": {},
   "source": [
    "Sometimes we need to use multiple external resources. How do we do that?"
   ]
  },
  {
   "cell_type": "code",
   "execution_count": 19,
   "id": "measured-establishment",
   "metadata": {},
   "outputs": [],
   "source": [
    "with open(\"app.txt\") as file, open(\"app2.txt\") as target:\n",
    "    pass"
   ]
  },
  {
   "cell_type": "markdown",
   "id": "spoken-actress",
   "metadata": {},
   "source": [
    "## Raising Exceptions"
   ]
  },
  {
   "cell_type": "markdown",
   "id": "limiting-genesis",
   "metadata": {},
   "source": [
    "You can also raise or throw exceptions with your own code. Google *python3 built-in exceptions* for the existing exceptions."
   ]
  },
  {
   "cell_type": "code",
   "execution_count": 21,
   "id": "answering-import",
   "metadata": {},
   "outputs": [
    {
     "ename": "ValueError",
     "evalue": "Age cannot be 0 or less.",
     "output_type": "error",
     "traceback": [
      "\u001b[1;31m---------------------------------------------------------------------------\u001b[0m",
      "\u001b[1;31mValueError\u001b[0m                                Traceback (most recent call last)",
      "\u001b[1;32m<ipython-input-21-d52e6d738e86>\u001b[0m in \u001b[0;36m<module>\u001b[1;34m\u001b[0m\n\u001b[0;32m      4\u001b[0m     \u001b[1;32mreturn\u001b[0m \u001b[1;36m10\u001b[0m \u001b[1;33m/\u001b[0m \u001b[0mage\u001b[0m\u001b[1;33m\u001b[0m\u001b[1;33m\u001b[0m\u001b[0m\n\u001b[0;32m      5\u001b[0m \u001b[1;33m\u001b[0m\u001b[0m\n\u001b[1;32m----> 6\u001b[1;33m \u001b[0mcalculate_xfactor\u001b[0m\u001b[1;33m(\u001b[0m\u001b[1;33m-\u001b[0m\u001b[1;36m1\u001b[0m\u001b[1;33m)\u001b[0m\u001b[1;33m\u001b[0m\u001b[1;33m\u001b[0m\u001b[0m\n\u001b[0m",
      "\u001b[1;32m<ipython-input-21-d52e6d738e86>\u001b[0m in \u001b[0;36mcalculate_xfactor\u001b[1;34m(age)\u001b[0m\n\u001b[0;32m      1\u001b[0m \u001b[1;32mdef\u001b[0m \u001b[0mcalculate_xfactor\u001b[0m\u001b[1;33m(\u001b[0m\u001b[0mage\u001b[0m\u001b[1;33m)\u001b[0m\u001b[1;33m:\u001b[0m\u001b[1;33m\u001b[0m\u001b[1;33m\u001b[0m\u001b[0m\n\u001b[0;32m      2\u001b[0m     \u001b[1;32mif\u001b[0m \u001b[0mage\u001b[0m \u001b[1;33m<=\u001b[0m \u001b[1;36m0\u001b[0m\u001b[1;33m:\u001b[0m\u001b[1;33m\u001b[0m\u001b[1;33m\u001b[0m\u001b[0m\n\u001b[1;32m----> 3\u001b[1;33m         \u001b[1;32mraise\u001b[0m \u001b[0mValueError\u001b[0m\u001b[1;33m(\u001b[0m\u001b[1;34m\"Age cannot be 0 or less.\"\u001b[0m\u001b[1;33m)\u001b[0m\u001b[1;33m\u001b[0m\u001b[1;33m\u001b[0m\u001b[0m\n\u001b[0m\u001b[0;32m      4\u001b[0m     \u001b[1;32mreturn\u001b[0m \u001b[1;36m10\u001b[0m \u001b[1;33m/\u001b[0m \u001b[0mage\u001b[0m\u001b[1;33m\u001b[0m\u001b[1;33m\u001b[0m\u001b[0m\n\u001b[0;32m      5\u001b[0m \u001b[1;33m\u001b[0m\u001b[0m\n",
      "\u001b[1;31mValueError\u001b[0m: Age cannot be 0 or less."
     ]
    }
   ],
   "source": [
    "def calculate_xfactor(age):\n",
    "    if age <= 0:\n",
    "        raise ValueError(\"Age cannot be 0 or less.\")\n",
    "    return 10 / age\n",
    "\n",
    "calculate_xfactor(-1)"
   ]
  },
  {
   "cell_type": "code",
   "execution_count": 22,
   "id": "lovely-prescription",
   "metadata": {},
   "outputs": [
    {
     "name": "stdout",
     "output_type": "stream",
     "text": [
      "Age cannot be 0 or less.\n"
     ]
    }
   ],
   "source": [
    "try:\n",
    "    calculate_xfactor(-1)\n",
    "except ValueError as error:\n",
    "    print(error)"
   ]
  },
  {
   "cell_type": "markdown",
   "id": "crude-adrian",
   "metadata": {},
   "source": [
    "But raising exceptions is costly. A different approach can result in better performance. See next section."
   ]
  },
  {
   "cell_type": "markdown",
   "id": "coupled-strength",
   "metadata": {},
   "source": [
    "## Cost of Raising Exceptions"
   ]
  },
  {
   "cell_type": "code",
   "execution_count": 24,
   "id": "friendly-immune",
   "metadata": {},
   "outputs": [
    {
     "name": "stdout",
     "output_type": "stream",
     "text": [
      "first code: 0.017087700000047334\n"
     ]
    }
   ],
   "source": [
    "from timeit import timeit # with this function, we can calculate the execution time of some Python code\n",
    "\n",
    "code1 = \"\"\"\n",
    "def calculate_xfactor(age):\n",
    "    if age <= 0:\n",
    "        raise ValueError(\"Age cannot be 0 or less.\")\n",
    "    return 10 / age\n",
    "\n",
    "try:\n",
    "    calculate_xfactor(-1)\n",
    "except ValueError as error:\n",
    "    pass\n",
    "\"\"\"\n",
    "\n",
    "print(\"first code:\", timeit(code1, number=10000)) # run 10000 times"
   ]
  },
  {
   "cell_type": "code",
   "execution_count": 25,
   "id": "recognized-compiler",
   "metadata": {},
   "outputs": [
    {
     "name": "stdout",
     "output_type": "stream",
     "text": [
      "second code: 0.006980600000133563\n"
     ]
    }
   ],
   "source": [
    "code2 = \"\"\"\n",
    "def calculate_xfactor(age):\n",
    "    if age <= 0:\n",
    "        return None\n",
    "    return 10 / age\n",
    "\n",
    "xfactor = calculate_xfactor(-1)\n",
    "if xfactor == None:\n",
    "    pass\n",
    "\"\"\"\n",
    "print(\"second code:\", timeit(code2, number=10000)) # run 10000 times"
   ]
  },
  {
   "cell_type": "markdown",
   "id": "processed-tourist",
   "metadata": {},
   "source": [
    "So raise an exception if you really have to."
   ]
  },
  {
   "cell_type": "code",
   "execution_count": null,
   "id": "aware-sensitivity",
   "metadata": {},
   "outputs": [],
   "source": []
  }
 ],
 "metadata": {
  "kernelspec": {
   "display_name": "Python 3",
   "language": "python",
   "name": "python3"
  },
  "language_info": {
   "codemirror_mode": {
    "name": "ipython",
    "version": 3
   },
   "file_extension": ".py",
   "mimetype": "text/x-python",
   "name": "python",
   "nbconvert_exporter": "python",
   "pygments_lexer": "ipython3",
   "version": "3.7.6"
  }
 },
 "nbformat": 4,
 "nbformat_minor": 5
}
