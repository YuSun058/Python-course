{
 "metadata": {
  "language_info": {
   "codemirror_mode": {
    "name": "ipython",
    "version": 3
   },
   "file_extension": ".py",
   "mimetype": "text/x-python",
   "name": "python",
   "nbconvert_exporter": "python",
   "pygments_lexer": "ipython3",
   "version": "3.7.6-final"
  },
  "orig_nbformat": 2,
  "kernelspec": {
   "name": "python3",
   "display_name": "Python 3.7.6 64-bit (conda)",
   "metadata": {
    "interpreter": {
     "hash": "e8fd100a2c8866ae2d3e8b85cd01e709724ac0af43a714c586c6afac94a5cb88"
    }
   }
  }
 },
 "nbformat": 4,
 "nbformat_minor": 2,
 "cells": [
  {
   "source": [
    "<p align=\"right\">Mar 3, 2021, Yu Sun</p>\n"
   ],
   "cell_type": "markdown",
   "metadata": {}
  },
  {
   "source": [
    "# Built-In Primitive Types in Python\n",
    "* Numbers\n",
    "* Booleans\n",
    "* Strings\n",
    "\n",
    "## Variables"
   ],
   "cell_type": "markdown",
   "metadata": {}
  },
  {
   "cell_type": "code",
   "execution_count": 1,
   "metadata": {},
   "outputs": [
    {
     "output_type": "stream",
     "name": "stdout",
     "text": [
      "1000 4.99 False Python Programming\n"
     ]
    }
   ],
   "source": [
    "students_count = 1000 # int\n",
    "rating = 4.99  # float\n",
    "is_published = False # boolean \n",
    "course_name = \"Python Programming\" # string\n",
    "print(students_count, rating, is_published, course_name)"
   ]
  },
  {
   "source": [
    "## Variable Names\n",
    "* Descriptive and meaningful\n",
    "* Lower case letters to name variables\n",
    "* Underscore to separate multiple words"
   ],
   "cell_type": "markdown",
   "metadata": {}
  },
  {
   "source": [
    "## Strings\n"
   ],
   "cell_type": "markdown",
   "metadata": {}
  },
  {
   "cell_type": "code",
   "execution_count": 2,
   "metadata": {},
   "outputs": [
    {
     "output_type": "stream",
     "name": "stdout",
     "text": [
      "Python Programming \n\nHi John,\n\nThis is Mosh from codewithmosh.com.\n\n\n"
     ]
    }
   ],
   "source": [
    "course = \"Python Programming\"\n",
    "message = \"\"\"\n",
    "\n",
    "Hi John,\n",
    "\n",
    "This is Mosh from codewithmosh.com.\n",
    "\n",
    "\"\"\"\n",
    "print(course, message)"
   ]
  },
  {
   "source": [
    "* Length\n",
    "* Indexing\n"
   ],
   "cell_type": "markdown",
   "metadata": {}
  },
  {
   "cell_type": "code",
   "execution_count": 3,
   "metadata": {},
   "outputs": [
    {
     "output_type": "stream",
     "name": "stdout",
     "text": [
      "18\n"
     ]
    }
   ],
   "source": [
    "print(len(course))"
   ]
  },
  {
   "cell_type": "code",
   "execution_count": 4,
   "metadata": {},
   "outputs": [
    {
     "output_type": "execute_result",
     "data": {
      "text/plain": [
       "('P',\n",
       " 'g',\n",
       " 'Pyt',\n",
       " 'Python Programming',\n",
       " 'Python Programmin',\n",
       " 'Python Programming')"
      ]
     },
     "metadata": {},
     "execution_count": 4
    }
   ],
   "source": [
    "course[0], course[-1], course[0:3], course[0:], course[:-1], course[:]"
   ]
  },
  {
   "source": [
    "## Escape Sequences\n",
    "What if we want to add a \" in a string? We use the escape character \\ (back slash).  \n",
    "\\\" is an escape sequence.\n",
    "* \\'\n",
    "* \\\\\\\n",
    "* \\n"
   ],
   "cell_type": "markdown",
   "metadata": {}
  },
  {
   "cell_type": "code",
   "execution_count": 5,
   "metadata": {},
   "outputs": [
    {
     "output_type": "stream",
     "name": "stdout",
     "text": [
      "Python \"Programming\nPython \\Programming\nPython \nProgramming\n"
     ]
    }
   ],
   "source": [
    "course = \"Python \\\"Programming\"\n",
    "print(course)\n",
    "course = \"Python \\\\Programming\"\n",
    "print(course)\n",
    "course = \"Python \\nProgramming\"\n",
    "print(course)"
   ]
  },
  {
   "source": [
    "## Formatted Strings"
   ],
   "cell_type": "markdown",
   "metadata": {}
  },
  {
   "cell_type": "code",
   "execution_count": 6,
   "metadata": {},
   "outputs": [
    {
     "output_type": "stream",
     "name": "stdout",
     "text": [
      "Mosh Hamedani\n"
     ]
    }
   ],
   "source": [
    "first = \"Mosh\"\n",
    "last = \"Hamedani\"\n",
    "full = first + \" \" + last\n",
    "print(full)"
   ]
  },
  {
   "source": [
    "The above is not neat. "
   ],
   "cell_type": "markdown",
   "metadata": {}
  },
  {
   "cell_type": "code",
   "execution_count": 7,
   "metadata": {},
   "outputs": [
    {
     "output_type": "stream",
     "name": "stdout",
     "text": [
      "Mosh Hamedani\n"
     ]
    }
   ],
   "source": [
    "first = \"Mosh\"\n",
    "last = \"Hamedani\"\n",
    "full = f\"{first} {last}\"\n",
    "print(full)"
   ]
  },
  {
   "source": [
    "We can put any kind of expression in between curly braces."
   ],
   "cell_type": "markdown",
   "metadata": {}
  },
  {
   "cell_type": "code",
   "execution_count": 8,
   "metadata": {},
   "outputs": [
    {
     "output_type": "stream",
     "name": "stdout",
     "text": [
      "4 4\n"
     ]
    }
   ],
   "source": [
    "print(f\"{len(first)} {2 + 2}\")"
   ]
  },
  {
   "source": [
    "## String Methods  \n",
    "Everything in Python is an object, which has functions we call methods that we can access using the dot notation."
   ],
   "cell_type": "markdown",
   "metadata": {}
  },
  {
   "source": [
    "### Upper/lower case "
   ],
   "cell_type": "markdown",
   "metadata": {}
  },
  {
   "cell_type": "code",
   "execution_count": 9,
   "metadata": {},
   "outputs": [
    {
     "output_type": "stream",
     "name": "stdout",
     "text": [
      "  PYTHON PROGRAMMING  \n  python programming  \n  Python Programming  \n  python Programming  \n"
     ]
    }
   ],
   "source": [
    "course = \"  python Programming  \"\n",
    "print(course.upper())\n",
    "print(course.lower())\n",
    "print(course.title())\n",
    "print(course)"
   ]
  },
  {
   "source": [
    "### Strip"
   ],
   "cell_type": "markdown",
   "metadata": {}
  },
  {
   "cell_type": "code",
   "execution_count": 10,
   "metadata": {},
   "outputs": [
    {
     "output_type": "stream",
     "name": "stdout",
     "text": [
      "python Programming\npython Programming  \n  python Programming\n  python Programming  \n"
     ]
    }
   ],
   "source": [
    "print(course.strip()) # remove the white space from both the beginning and end of a string\n",
    "print(course.lstrip())\n",
    "print(course.rstrip())\n",
    "print(course)"
   ]
  },
  {
   "source": [
    "### Find"
   ],
   "cell_type": "markdown",
   "metadata": {}
  },
  {
   "cell_type": "code",
   "execution_count": 11,
   "metadata": {},
   "outputs": [
    {
     "output_type": "stream",
     "name": "stdout",
     "text": [
      "9\n-1\n"
     ]
    }
   ],
   "source": [
    "print(course.find(\"Pro\")) # return the index of what we want\n",
    "print(course.find(\"pro\")) # -1 means failure to find it"
   ]
  },
  {
   "source": [
    "### Replace"
   ],
   "cell_type": "markdown",
   "metadata": {}
  },
  {
   "cell_type": "code",
   "execution_count": 12,
   "metadata": {},
   "outputs": [
    {
     "output_type": "stream",
     "name": "stdout",
     "text": [
      "  jython Programming  \n"
     ]
    }
   ],
   "source": [
    "print(course.replace(\"p\", \"j\"))"
   ]
  },
  {
   "source": [
    "### In"
   ],
   "cell_type": "markdown",
   "metadata": {}
  },
  {
   "cell_type": "code",
   "execution_count": 13,
   "metadata": {},
   "outputs": [
    {
     "output_type": "stream",
     "name": "stdout",
     "text": [
      "False\n",
      "True\n",
      "True\n"
     ]
    }
   ],
   "source": [
    "print(\"pro\" in course) \n",
    "print(\"Pro\" in course)\n",
    "print(\"swift\" not in course)"
   ]
  },
  {
   "source": [
    "## Numbers \n",
    "* Interger\n",
    "* Float\n",
    "* Complex numbers"
   ],
   "cell_type": "markdown",
   "metadata": {}
  },
  {
   "cell_type": "code",
   "execution_count": 14,
   "metadata": {},
   "outputs": [
    {
     "output_type": "stream",
     "name": "stdout",
     "text": [
      "(1+2j)\n"
     ]
    }
   ],
   "source": [
    "x = 1 + 2j # complex number\n",
    "print(x)"
   ]
  },
  {
   "source": [
    "### Standard arithmetic operators"
   ],
   "cell_type": "markdown",
   "metadata": {}
  },
  {
   "cell_type": "code",
   "execution_count": 15,
   "metadata": {},
   "outputs": [
    {
     "output_type": "stream",
     "name": "stdout",
     "text": [
      "13\n",
      "7\n",
      "30\n",
      "3.3333333333333335\n",
      "3\n",
      "1\n",
      "1000\n"
     ]
    }
   ],
   "source": [
    "print(10 + 3) # addition\n",
    "print(10 - 3) # subtraction\n",
    "print(10 * 3) # multiplication\n",
    "print(10 / 3) # division\n",
    "print(10 // 3) # exact division\n",
    "print(10 % 3) # modulus\n",
    "print(10 ** 3) # exponent"
   ]
  },
  {
   "source": [
    "### Augmented assignment operator"
   ],
   "cell_type": "markdown",
   "metadata": {}
  },
  {
   "cell_type": "code",
   "execution_count": 16,
   "metadata": {},
   "outputs": [
    {
     "output_type": "stream",
     "name": "stdout",
     "text": [
      "16\n"
     ]
    }
   ],
   "source": [
    "x = 10\n",
    "x = x + 3\n",
    "x += 3 # also for -, *, / ......\n",
    "print(x)"
   ]
  },
  {
   "source": [
    "## Work with Numbers"
   ],
   "cell_type": "markdown",
   "metadata": {}
  },
  {
   "cell_type": "code",
   "execution_count": 17,
   "metadata": {},
   "outputs": [
    {
     "output_type": "execute_result",
     "data": {
      "text/plain": [
       "3"
      ]
     },
     "metadata": {},
     "execution_count": 17
    }
   ],
   "source": [
    "round(2.9)"
   ]
  },
  {
   "cell_type": "code",
   "execution_count": 18,
   "metadata": {},
   "outputs": [
    {
     "output_type": "execute_result",
     "data": {
      "text/plain": [
       "1.9"
      ]
     },
     "metadata": {},
     "execution_count": 18
    }
   ],
   "source": [
    "abs(-1.9)"
   ]
  },
  {
   "source": [
    "Python 3 Math Module  \n",
    "https://docs.python.org/3/library/math.html"
   ],
   "cell_type": "markdown",
   "metadata": {}
  },
  {
   "cell_type": "code",
   "execution_count": 19,
   "metadata": {},
   "outputs": [
    {
     "output_type": "execute_result",
     "data": {
      "text/plain": [
       "3"
      ]
     },
     "metadata": {},
     "execution_count": 19
    }
   ],
   "source": [
    "import math\n",
    "math.ceil(2.2)"
   ]
  },
  {
   "cell_type": "code",
   "execution_count": 20,
   "metadata": {},
   "outputs": [
    {
     "output_type": "execute_result",
     "data": {
      "text/plain": [
       "-1.0"
      ]
     },
     "metadata": {},
     "execution_count": 20
    }
   ],
   "source": [
    "math.cos(-math.pi)"
   ]
  },
  {
   "source": [
    "## Type Conversion"
   ],
   "cell_type": "markdown",
   "metadata": {}
  },
  {
   "cell_type": "code",
   "execution_count": 21,
   "metadata": {},
   "outputs": [
    {
     "output_type": "error",
     "ename": "TypeError",
     "evalue": "can only concatenate str (not \"int\") to str",
     "traceback": [
      "\u001b[1;31m---------------------------------------------------------------------------\u001b[0m",
      "\u001b[1;31mTypeError\u001b[0m                                 Traceback (most recent call last)",
      "\u001b[1;32m<ipython-input-21-b7bcf0d05f4c>\u001b[0m in \u001b[0;36m<module>\u001b[1;34m\u001b[0m\n\u001b[0;32m      1\u001b[0m \u001b[0mx\u001b[0m \u001b[1;33m=\u001b[0m \u001b[0minput\u001b[0m\u001b[1;33m(\u001b[0m\u001b[1;34m\"x: \"\u001b[0m\u001b[1;33m)\u001b[0m\u001b[1;33m\u001b[0m\u001b[1;33m\u001b[0m\u001b[0m\n\u001b[1;32m----> 2\u001b[1;33m \u001b[0my\u001b[0m \u001b[1;33m=\u001b[0m \u001b[0mx\u001b[0m \u001b[1;33m+\u001b[0m \u001b[1;36m1\u001b[0m\u001b[1;33m\u001b[0m\u001b[1;33m\u001b[0m\u001b[0m\n\u001b[0m",
      "\u001b[1;31mTypeError\u001b[0m: can only concatenate str (not \"int\") to str"
     ]
    }
   ],
   "source": [
    "x = input(\"x: \")\n",
    "y = x + 1"
   ]
  },
  {
   "source": [
    "What value did we type in?"
   ],
   "cell_type": "markdown",
   "metadata": {}
  },
  {
   "cell_type": "code",
   "execution_count": 22,
   "metadata": {},
   "outputs": [
    {
     "output_type": "execute_result",
     "data": {
      "text/plain": [
       "'18'"
      ]
     },
     "metadata": {},
     "execution_count": 22
    }
   ],
   "source": [
    "x"
   ]
  },
  {
   "cell_type": "code",
   "execution_count": 23,
   "metadata": {},
   "outputs": [
    {
     "output_type": "stream",
     "name": "stdout",
     "text": [
      "18 18.0 True 18\n"
     ]
    }
   ],
   "source": [
    "print(int(x), float(x), bool(x), str(x))"
   ]
  },
  {
   "source": [
    "### Boolean falsy\n",
    "* \"\"\n",
    "* 0\n",
    "* None  \n",
    "\n",
    "Anything else would be _True_."
   ],
   "cell_type": "markdown",
   "metadata": {}
  },
  {
   "cell_type": "code",
   "execution_count": 24,
   "metadata": {},
   "outputs": [
    {
     "output_type": "execute_result",
     "data": {
      "text/plain": [
       "False"
      ]
     },
     "metadata": {},
     "execution_count": 24
    }
   ],
   "source": [
    "bool(\"\")"
   ]
  },
  {
   "cell_type": "code",
   "execution_count": 25,
   "metadata": {},
   "outputs": [
    {
     "output_type": "execute_result",
     "data": {
      "text/plain": [
       "True"
      ]
     },
     "metadata": {},
     "execution_count": 25
    }
   ],
   "source": [
    "bool(\" \")"
   ]
  },
  {
   "cell_type": "code",
   "execution_count": 26,
   "metadata": {},
   "outputs": [
    {
     "output_type": "execute_result",
     "data": {
      "text/plain": [
       "False"
      ]
     },
     "metadata": {},
     "execution_count": 26
    }
   ],
   "source": [
    "bool(0)"
   ]
  },
  {
   "cell_type": "code",
   "execution_count": 27,
   "metadata": {},
   "outputs": [
    {
     "output_type": "execute_result",
     "data": {
      "text/plain": [
       "True"
      ]
     },
     "metadata": {},
     "execution_count": 27
    }
   ],
   "source": [
    "bool(3)"
   ]
  },
  {
   "cell_type": "code",
   "execution_count": 28,
   "metadata": {},
   "outputs": [
    {
     "output_type": "execute_result",
     "data": {
      "text/plain": [
       "False"
      ]
     },
     "metadata": {},
     "execution_count": 28
    }
   ],
   "source": [
    "bool(None)"
   ]
  },
  {
   "cell_type": "code",
   "execution_count": 29,
   "metadata": {},
   "outputs": [
    {
     "output_type": "execute_result",
     "data": {
      "text/plain": [
       "True"
      ]
     },
     "metadata": {},
     "execution_count": 29
    }
   ],
   "source": [
    "bool(\"False\")"
   ]
  }
 ]
}