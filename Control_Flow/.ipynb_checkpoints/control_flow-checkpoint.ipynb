{
 "cells": [
  {
   "cell_type": "markdown",
   "id": "amber-lottery",
   "metadata": {},
   "source": [
    "## Ternary operator"
   ]
  },
  {
   "cell_type": "code",
   "execution_count": 1,
   "id": "objective-carry",
   "metadata": {},
   "outputs": [
    {
     "name": "stdout",
     "output_type": "stream",
     "text": [
      "Not eligible\n"
     ]
    }
   ],
   "source": [
    "age = 12\n",
    "message = \"Eligible\" if age >= 18 else \"Not eligible\"\n",
    "print(message)"
   ]
  },
  {
   "cell_type": "markdown",
   "id": "sitting-timer",
   "metadata": {},
   "source": [
    "## Logical operators"
   ]
  },
  {
   "cell_type": "code",
   "execution_count": 2,
   "id": "descending-popularity",
   "metadata": {},
   "outputs": [
    {
     "name": "stdout",
     "output_type": "stream",
     "text": [
      "Eligible\n"
     ]
    }
   ],
   "source": [
    "high_income = False \n",
    "good_credit = True\n",
    "is_student = False\n",
    "if (high_income or good_credit) and not is_student:\n",
    "    message = \"Eligible\"\n",
    "else:\n",
    "    message = \"Not eligible\"\n",
    "print(message)        "
   ]
  },
  {
   "cell_type": "markdown",
   "id": "handed-winner",
   "metadata": {},
   "source": [
    "## Chaining comparison operators"
   ]
  },
  {
   "cell_type": "code",
   "execution_count": 3,
   "id": "historical-ultimate",
   "metadata": {},
   "outputs": [
    {
     "name": "stdout",
     "output_type": "stream",
     "text": [
      "Eligible\n"
     ]
    }
   ],
   "source": [
    "# age should between 18 and 65\n",
    "age = 22\n",
    "if 18 <= age < 65: # this is same to \"if age >= 18 and age < 65:\"\n",
    "    print(\"Eligible\")"
   ]
  },
  {
   "cell_type": "code",
   "execution_count": null,
   "id": "functioning-university",
   "metadata": {},
   "outputs": [],
   "source": []
  },
  {
   "cell_type": "code",
   "execution_count": null,
   "id": "working-bulgaria",
   "metadata": {},
   "outputs": [],
   "source": []
  }
 ],
 "metadata": {
  "kernelspec": {
   "display_name": "Python 3",
   "language": "python",
   "name": "python3"
  },
  "language_info": {
   "codemirror_mode": {
    "name": "ipython",
    "version": 3
   },
   "file_extension": ".py",
   "mimetype": "text/x-python",
   "name": "python",
   "nbconvert_exporter": "python",
   "pygments_lexer": "ipython3",
   "version": "3.7.6"
  }
 },
 "nbformat": 4,
 "nbformat_minor": 5
}
