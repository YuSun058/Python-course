{
 "cells": [
  {
   "cell_type": "markdown",
   "id": "entertaining-monroe",
   "metadata": {},
   "source": [
    "## Ternary operator"
   ]
  },
  {
   "cell_type": "code",
   "execution_count": 1,
   "id": "disturbed-pregnancy",
   "metadata": {},
   "outputs": [
    {
     "name": "stdout",
     "output_type": "stream",
     "text": [
      "Not eligible\n"
     ]
    }
   ],
   "source": [
    "age = 12\n",
    "message = \"Eligible\" if age >= 18 else \"Not eligible\"\n",
    "print(message)"
   ]
  },
  {
   "cell_type": "markdown",
   "id": "tight-jamaica",
   "metadata": {},
   "source": [
    "## Logical operators"
   ]
  },
  {
   "cell_type": "code",
   "execution_count": 2,
   "id": "global-pound",
   "metadata": {},
   "outputs": [
    {
     "name": "stdout",
     "output_type": "stream",
     "text": [
      "Eligible\n"
     ]
    }
   ],
   "source": [
    "high_income = False \n",
    "good_credit = True\n",
    "is_student = False\n",
    "if (high_income or good_credit) and not is_student:\n",
    "    message = \"Eligible\"\n",
    "else:\n",
    "    message = \"Not eligible\"\n",
    "print(message)        "
   ]
  },
  {
   "cell_type": "markdown",
   "id": "superior-anaheim",
   "metadata": {},
   "source": [
    "## Chaining comparison operators"
   ]
  },
  {
   "cell_type": "code",
   "execution_count": 3,
   "id": "substantial-dispute",
   "metadata": {},
   "outputs": [
    {
     "name": "stdout",
     "output_type": "stream",
     "text": [
      "Eligible\n"
     ]
    }
   ],
   "source": [
    "# age should between 18 and 65\n",
    "age = 22\n",
    "if 18 <= age < 65: # this is same to \"if age >= 18 and age < 65:\"\n",
    "    print(\"Eligible\")"
   ]
  },
  {
   "cell_type": "markdown",
   "id": "proprietary-family",
   "metadata": {},
   "source": [
    "## For loops"
   ]
  },
  {
   "cell_type": "code",
   "execution_count": 5,
   "id": "sensitive-collapse",
   "metadata": {},
   "outputs": [
    {
     "name": "stdout",
     "output_type": "stream",
     "text": [
      "Sending a message\n",
      "Sending a message\n",
      "Sending a message\n",
      "\n"
     ]
    }
   ],
   "source": [
    "print(\"Sending a message\\n\" * 3)"
   ]
  },
  {
   "cell_type": "code",
   "execution_count": 8,
   "id": "defined-temple",
   "metadata": {},
   "outputs": [
    {
     "name": "stdout",
     "output_type": "stream",
     "text": [
      "Attempt 1 .\n",
      "Attempt 2 ..\n",
      "Attempt 3 ...\n"
     ]
    }
   ],
   "source": [
    "for number in range(3):\n",
    "    print(\"Attempt\", number + 1, (number + 1) * \".\")"
   ]
  },
  {
   "cell_type": "markdown",
   "id": "dietary-fountain",
   "metadata": {},
   "source": [
    "## For else"
   ]
  },
  {
   "cell_type": "markdown",
   "id": "standing-virginia",
   "metadata": {},
   "source": [
    "The \"else\" part will be executed only when the \"for\" loop will complete without an early termination."
   ]
  },
  {
   "cell_type": "code",
   "execution_count": 9,
   "id": "provincial-payday",
   "metadata": {},
   "outputs": [
    {
     "name": "stdout",
     "output_type": "stream",
     "text": [
      "Attempt\n",
      "Attempt\n",
      "Attempt\n",
      "Attempted 3 times and failed\n"
     ]
    }
   ],
   "source": [
    "successful = False\n",
    "for number in range(3):\n",
    "    print(\"Attempt\")\n",
    "    if successful:\n",
    "        print(\"Successful\")\n",
    "        break\n",
    "else:\n",
    "    print(\"Attempted 3 times and failed\")"
   ]
  },
  {
   "cell_type": "markdown",
   "id": "desperate-hindu",
   "metadata": {},
   "source": [
    "## Nested loops"
   ]
  },
  {
   "cell_type": "code",
   "execution_count": 10,
   "id": "herbal-polymer",
   "metadata": {},
   "outputs": [
    {
     "name": "stdout",
     "output_type": "stream",
     "text": [
      "(0, 0)\n",
      "(0, 1)\n",
      "(1, 0)\n",
      "(1, 1)\n",
      "(2, 0)\n",
      "(2, 1)\n"
     ]
    }
   ],
   "source": [
    "for x in range(3):\n",
    "    for y in range(2):\n",
    "        print(f\"({x}, {y})\")"
   ]
  },
  {
   "cell_type": "markdown",
   "id": "southwest-poland",
   "metadata": {},
   "source": [
    "## Iterables"
   ]
  },
  {
   "cell_type": "markdown",
   "id": "killing-focus",
   "metadata": {},
   "source": [
    "We can iterate over it or use it in a for loop. Iterable objects: **range, string, list**. \n",
    "Later, we will construct our custom iterable objects."
   ]
  },
  {
   "cell_type": "code",
   "execution_count": 11,
   "id": "caring-warning",
   "metadata": {},
   "outputs": [
    {
     "name": "stdout",
     "output_type": "stream",
     "text": [
      "0\n",
      "1\n",
      "2\n",
      "P\n",
      "y\n",
      "t\n",
      "h\n",
      "o\n",
      "n\n",
      "1\n",
      "2\n",
      "str\n"
     ]
    }
   ],
   "source": [
    "for number in range(3):\n",
    "    print(number)\n",
    "for x in \"Python\":\n",
    "    print(x)\n",
    "for x in [1, 2, \"str\"]:\n",
    "    print(x)"
   ]
  },
  {
   "cell_type": "markdown",
   "id": "front-structure",
   "metadata": {},
   "source": [
    "## While loops"
   ]
  },
  {
   "cell_type": "code",
   "execution_count": 12,
   "id": "running-arabic",
   "metadata": {},
   "outputs": [
    {
     "name": "stdout",
     "output_type": "stream",
     "text": [
      "100\n",
      "33\n",
      "11\n",
      "3\n",
      "1\n"
     ]
    }
   ],
   "source": [
    "number = 100\n",
    "while number > 0:\n",
    "    print(number)\n",
    "    number //= 3"
   ]
  },
  {
   "cell_type": "code",
   "execution_count": 14,
   "id": "imported-voice",
   "metadata": {},
   "outputs": [
    {
     "name": "stdout",
     "output_type": "stream",
     "text": [
      "2 + 2\n",
      "Echo 2 + 2\n",
      "2 * 5\n",
      "Echo 2 * 5\n",
      "QUIT\n",
      "Echo QUIT\n"
     ]
    }
   ],
   "source": [
    "command = \"\"\n",
    "while command.lower() != \"quit\":\n",
    "    command = input()\n",
    "    print(\"Echo\", command)"
   ]
  },
  {
   "cell_type": "markdown",
   "id": "played-thompson",
   "metadata": {},
   "source": [
    "## Infinite loops"
   ]
  },
  {
   "cell_type": "code",
   "execution_count": 15,
   "id": "inclusive-asbestos",
   "metadata": {},
   "outputs": [
    {
     "name": "stdout",
     "output_type": "stream",
     "text": [
      "8 / 3\n",
      "Echo 8 / 3\n",
      "Quit\n",
      "Echo Quit\n"
     ]
    }
   ],
   "source": [
    "while True:\n",
    "    command = input()\n",
    "    print(\"Echo\", command)\n",
    "    if command.lower() == \"quit\":\n",
    "        break"
   ]
  },
  {
   "cell_type": "code",
   "execution_count": null,
   "id": "pressed-amateur",
   "metadata": {},
   "outputs": [],
   "source": []
  }
 ],
 "metadata": {
  "kernelspec": {
   "display_name": "Python 3",
   "language": "python",
   "name": "python3"
  },
  "language_info": {
   "codemirror_mode": {
    "name": "ipython",
    "version": 3
   },
   "file_extension": ".py",
   "mimetype": "text/x-python",
   "name": "python",
   "nbconvert_exporter": "python",
   "pygments_lexer": "ipython3",
   "version": "3.7.6"
  }
 },
 "nbformat": 4,
 "nbformat_minor": 5
}
