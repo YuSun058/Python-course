{
 "cells": [
  {
   "cell_type": "markdown",
   "source": [
    "## Define functions and arguments"
   ],
   "metadata": {}
  },
  {
   "cell_type": "markdown",
   "source": [
    "Arguments are the realizations of parameters."
   ],
   "metadata": {}
  },
  {
   "cell_type": "code",
   "execution_count": 1,
   "source": [
    "def greet(first_name, last_name):\r\n",
    "    print(f\"Hello, {first_name} {last_name}\")\r\n",
    "    \r\n",
    "greet(\"Liam\", \"Lau\")"
   ],
   "outputs": [
    {
     "output_type": "stream",
     "name": "stdout",
     "text": [
      "Hello, Liam Lau\n"
     ]
    }
   ],
   "metadata": {}
  },
  {
   "cell_type": "markdown",
   "source": [
    "## Types of functions"
   ],
   "metadata": {}
  },
  {
   "cell_type": "markdown",
   "source": [
    "1- Perform a task: the above example    \n",
    "2- Return a value: with the value, we can do everything we want"
   ],
   "metadata": {}
  },
  {
   "cell_type": "code",
   "execution_count": 3,
   "source": [
    "def get_greeting(name):\r\n",
    "    return f\"Hi, {name}\"\r\n",
    "\r\n",
    "message = get_greeting(\"Liam\")\r\n",
    "print(message)\r\n",
    "\r\n",
    "file = open(\"content.txt\", \"w\")\r\n",
    "file.write(message)"
   ],
   "outputs": [
    {
     "output_type": "stream",
     "name": "stdout",
     "text": [
      "Hi, Liam\n"
     ]
    },
    {
     "output_type": "execute_result",
     "data": {
      "text/plain": [
       "8"
      ]
     },
     "metadata": {},
     "execution_count": 3
    }
   ],
   "metadata": {}
  },
  {
   "cell_type": "markdown",
   "source": [
    "## Keyword arguments"
   ],
   "metadata": {}
  },
  {
   "cell_type": "code",
   "execution_count": 4,
   "source": [
    "def increment(number, by):\n",
    "    return number + by\n",
    "print(increment(3, by=2))# here, \"by=2\" is a keyword argument"
   ],
   "outputs": [
    {
     "output_type": "stream",
     "name": "stdout",
     "text": [
      "5\n"
     ]
    }
   ],
   "metadata": {}
  },
  {
   "cell_type": "markdown",
   "source": [
    "## Default arguments"
   ],
   "metadata": {}
  },
  {
   "cell_type": "markdown",
   "source": [
    "All the optional parameters should come *after* the required parameters."
   ],
   "metadata": {}
  },
  {
   "cell_type": "code",
   "execution_count": 5,
   "source": [
    "def increment(number, by=1):\n",
    "    return number + by\n",
    "print(increment(3))\n",
    "print(increment(3, by=5))"
   ],
   "outputs": [
    {
     "output_type": "stream",
     "name": "stdout",
     "text": [
      "4\n",
      "8\n"
     ]
    }
   ],
   "metadata": {}
  },
  {
   "cell_type": "markdown",
   "source": [
    "## xargs"
   ],
   "metadata": {}
  },
  {
   "cell_type": "markdown",
   "source": [
    "Sometimes, the arguments for a function is not in definite dimension. For example, we want to calculate the product of the arguments."
   ],
   "metadata": {}
  },
  {
   "cell_type": "code",
   "execution_count": 6,
   "source": [
    "def multiply(*numbers):\n",
    "    print(numbers)\n",
    "multiply(2, 3, 4, 5)"
   ],
   "outputs": [
    {
     "output_type": "stream",
     "name": "stdout",
     "text": [
      "(2, 3, 4, 5)\n"
     ]
    }
   ],
   "metadata": {}
  },
  {
   "cell_type": "markdown",
   "source": [
    "We find that the input argument is a tuple, which is iterable like a list."
   ],
   "metadata": {}
  },
  {
   "cell_type": "code",
   "execution_count": 7,
   "source": [
    "def multiply(*numbers):\n",
    "    for number in numbers:\n",
    "        print(number)\n",
    "multiply(2, 3, 4)"
   ],
   "outputs": [
    {
     "output_type": "stream",
     "name": "stdout",
     "text": [
      "2\n",
      "3\n",
      "4\n"
     ]
    }
   ],
   "metadata": {}
  },
  {
   "cell_type": "markdown",
   "source": [
    "Finally, let's realize the multiply function."
   ],
   "metadata": {}
  },
  {
   "cell_type": "code",
   "execution_count": 8,
   "source": [
    "def multiply(*numbers):\n",
    "    total = 1\n",
    "    for number in numbers:\n",
    "        total *= number\n",
    "    return total\n",
    "multiply(2, 3, 4)"
   ],
   "outputs": [
    {
     "output_type": "execute_result",
     "data": {
      "text/plain": [
       "24"
      ]
     },
     "metadata": {},
     "execution_count": 8
    }
   ],
   "metadata": {}
  },
  {
   "cell_type": "markdown",
   "source": [
    "## xxargs"
   ],
   "metadata": {}
  },
  {
   "cell_type": "markdown",
   "source": [
    "We can also add variable arguments with keywords, which will form a dictionary."
   ],
   "metadata": {}
  },
  {
   "cell_type": "code",
   "execution_count": 10,
   "source": [
    "def save_user(**user):\n",
    "    print(user)\n",
    "save_user(id=1, name=\"John\", sex=\"M\")"
   ],
   "outputs": [
    {
     "output_type": "stream",
     "name": "stdout",
     "text": [
      "{'id': 1, 'name': 'John', 'sex': 'M'}\n"
     ]
    }
   ],
   "metadata": {}
  },
  {
   "cell_type": "code",
   "execution_count": null,
   "source": [],
   "outputs": [],
   "metadata": {}
  }
 ],
 "metadata": {
  "kernelspec": {
   "display_name": "Python 3",
   "language": "python",
   "name": "python3"
  },
  "language_info": {
   "codemirror_mode": {
    "name": "ipython",
    "version": 3
   },
   "file_extension": ".py",
   "mimetype": "text/x-python",
   "name": "python",
   "nbconvert_exporter": "python",
   "pygments_lexer": "ipython3",
   "version": "3.8.8"
  }
 },
 "nbformat": 4,
 "nbformat_minor": 5
}