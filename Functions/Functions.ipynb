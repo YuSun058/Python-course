{
 "cells": [
  {
   "cell_type": "markdown",
   "id": "aerial-louisville",
   "metadata": {},
   "source": [
    "## Define functions and arguments"
   ]
  },
  {
   "cell_type": "markdown",
   "id": "italian-chain",
   "metadata": {},
   "source": [
    "Arguments are the realizations of parameters."
   ]
  },
  {
   "cell_type": "code",
   "execution_count": 1,
   "id": "biblical-repeat",
   "metadata": {},
   "outputs": [
    {
     "name": "stdout",
     "output_type": "stream",
     "text": [
      "Hello, Liam Lau\n"
     ]
    }
   ],
   "source": [
    "def greet(first_name, last_name):\n",
    "    print(f\"Hello, {first_name} {last_name}\")\n",
    "    \n",
    "greet(\"Liam\", \"Lau\")"
   ]
  },
  {
   "cell_type": "markdown",
   "id": "sophisticated-appendix",
   "metadata": {},
   "source": [
    "## Types of functions"
   ]
  },
  {
   "cell_type": "markdown",
   "id": "increasing-winning",
   "metadata": {},
   "source": [
    "1- Perform a task: the above example    \n",
    "2- Return a value: with the value, we can do everything we want"
   ]
  },
  {
   "cell_type": "code",
   "execution_count": 3,
   "id": "descending-vitamin",
   "metadata": {},
   "outputs": [
    {
     "name": "stdout",
     "output_type": "stream",
     "text": [
      "Hi, Liam\n"
     ]
    },
    {
     "data": {
      "text/plain": [
       "8"
      ]
     },
     "execution_count": 3,
     "metadata": {},
     "output_type": "execute_result"
    }
   ],
   "source": [
    "def get_greeting(name):\n",
    "    return f\"Hi, {name}\"\n",
    "\n",
    "message = get_greeting(\"Liam\")\n",
    "print(message)\n",
    "\n",
    "file = open(\"content.txt\", \"w\")\n",
    "file.write(message)"
   ]
  },
  {
   "cell_type": "markdown",
   "id": "danish-marble",
   "metadata": {},
   "source": [
    "## Keyword arguments"
   ]
  },
  {
   "cell_type": "code",
   "execution_count": 4,
   "id": "advanced-columbus",
   "metadata": {},
   "outputs": [
    {
     "name": "stdout",
     "output_type": "stream",
     "text": [
      "5\n"
     ]
    }
   ],
   "source": [
    "def increment(number, by):\n",
    "    return number + by\n",
    "print(increment(3, by=2))# here, \"by=2\" is a keyword argument"
   ]
  },
  {
   "cell_type": "markdown",
   "id": "superb-paintball",
   "metadata": {},
   "source": [
    "## Default arguments"
   ]
  },
  {
   "cell_type": "markdown",
   "id": "psychological-alaska",
   "metadata": {},
   "source": [
    "All the optional parameters should come *after* the required parameters."
   ]
  },
  {
   "cell_type": "code",
   "execution_count": 5,
   "id": "timely-causing",
   "metadata": {},
   "outputs": [
    {
     "name": "stdout",
     "output_type": "stream",
     "text": [
      "4\n",
      "8\n"
     ]
    }
   ],
   "source": [
    "def increment(number, by=1):\n",
    "    return number + by\n",
    "print(increment(3))\n",
    "print(increment(3, by=5))"
   ]
  },
  {
   "cell_type": "markdown",
   "id": "color-slovenia",
   "metadata": {},
   "source": [
    "## xargs"
   ]
  },
  {
   "cell_type": "markdown",
   "id": "thirty-companion",
   "metadata": {},
   "source": [
    "Sometimes, the arguments for a function is not in definite dimension. For example, we want to calculate the product of the arguments."
   ]
  },
  {
   "cell_type": "code",
   "execution_count": 6,
   "id": "hungarian-capital",
   "metadata": {},
   "outputs": [
    {
     "name": "stdout",
     "output_type": "stream",
     "text": [
      "(2, 3, 4, 5)\n"
     ]
    }
   ],
   "source": [
    "def multiply(*numbers):\n",
    "    print(numbers)\n",
    "multiply(2, 3, 4, 5)"
   ]
  },
  {
   "cell_type": "markdown",
   "id": "portuguese-chance",
   "metadata": {},
   "source": [
    "We find that the input argument is a tuple, which is iterable like a list."
   ]
  },
  {
   "cell_type": "code",
   "execution_count": 7,
   "id": "adjacent-turkey",
   "metadata": {},
   "outputs": [
    {
     "name": "stdout",
     "output_type": "stream",
     "text": [
      "2\n",
      "3\n",
      "4\n"
     ]
    }
   ],
   "source": [
    "def multiply(*numbers):\n",
    "    for number in numbers:\n",
    "        print(number)\n",
    "multiply(2, 3, 4)"
   ]
  },
  {
   "cell_type": "markdown",
   "id": "velvet-characteristic",
   "metadata": {},
   "source": [
    "Finally, let's realize the multiply function."
   ]
  },
  {
   "cell_type": "code",
   "execution_count": 8,
   "id": "sacred-spider",
   "metadata": {},
   "outputs": [
    {
     "data": {
      "text/plain": [
       "24"
      ]
     },
     "execution_count": 8,
     "metadata": {},
     "output_type": "execute_result"
    }
   ],
   "source": [
    "def multiply(*numbers):\n",
    "    total = 1\n",
    "    for number in numbers:\n",
    "        total *= number\n",
    "    return total\n",
    "multiply(2, 3, 4)"
   ]
  },
  {
   "cell_type": "markdown",
   "id": "electronic-tracker",
   "metadata": {},
   "source": [
    "## xxargs"
   ]
  },
  {
   "cell_type": "markdown",
   "id": "individual-brighton",
   "metadata": {},
   "source": [
    "We can also add variable arguments with keywords, which will form a dictionary."
   ]
  },
  {
   "cell_type": "code",
   "execution_count": 10,
   "id": "leading-disposal",
   "metadata": {},
   "outputs": [
    {
     "name": "stdout",
     "output_type": "stream",
     "text": [
      "{'id': 1, 'name': 'John', 'sex': 'M'}\n"
     ]
    }
   ],
   "source": [
    "def save_user(**user):\n",
    "    print(user)\n",
    "save_user(id=1, name=\"John\", sex=\"M\")"
   ]
  },
  {
   "cell_type": "code",
   "execution_count": null,
   "id": "noble-aluminum",
   "metadata": {},
   "outputs": [],
   "source": []
  }
 ],
 "metadata": {
  "kernelspec": {
   "display_name": "Python 3",
   "language": "python",
   "name": "python3"
  },
  "language_info": {
   "codemirror_mode": {
    "name": "ipython",
    "version": 3
   },
   "file_extension": ".py",
   "mimetype": "text/x-python",
   "name": "python",
   "nbconvert_exporter": "python",
   "pygments_lexer": "ipython3",
   "version": "3.7.6"
  }
 },
 "nbformat": 4,
 "nbformat_minor": 5
}
