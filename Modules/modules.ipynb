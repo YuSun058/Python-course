{
 "cells": [
  {
   "cell_type": "markdown",
   "id": "southeast-payday",
   "metadata": {},
   "source": [
    "## Modules"
   ]
  },
  {
   "cell_type": "markdown",
   "id": "adolescent-masters",
   "metadata": {},
   "source": [
    "Contain highly related objects: classes, functions, functions..."
   ]
  },
  {
   "cell_type": "code",
   "execution_count": 1,
   "id": "green-solomon",
   "metadata": {},
   "outputs": [],
   "source": [
    "# For example, we have defined some functions in 'sales.py'\n",
    "from sales import calc_shipping, calc_tax # 'sales', no '.py'\n",
    "\n",
    "calc_shipping()\n",
    "calc_tax()"
   ]
  },
  {
   "cell_type": "markdown",
   "id": "tight-minneapolis",
   "metadata": {},
   "source": [
    "```python\n",
    "from sales import *\n",
    "```\n",
    "is possible but not suggested. Because *\\** will import all stuff, sometimes there may be things with same names imported from different modules."
   ]
  },
  {
   "cell_type": "code",
   "execution_count": 2,
   "id": "focused-restaurant",
   "metadata": {},
   "outputs": [],
   "source": [
    "# another way to import a module\n",
    "import sales # import a module as an object\n",
    "\n",
    "sales.calc_shipping() # call its methods\n",
    "sales.calc_tax()"
   ]
  },
  {
   "cell_type": "markdown",
   "id": "macro-stretch",
   "metadata": {},
   "source": [
    "## Module Search Path"
   ]
  },
  {
   "cell_type": "code",
   "execution_count": 3,
   "id": "optical-universe",
   "metadata": {},
   "outputs": [
    {
     "name": "stdout",
     "output_type": "stream",
     "text": [
      "['C:\\\\Users\\\\Eric\\\\OneDrive\\\\文档\\\\GitHub\\\\Python-course\\\\Modules', 'C:\\\\Softwares\\\\Anaconda3\\\\python37.zip', 'C:\\\\Softwares\\\\Anaconda3\\\\DLLs', 'C:\\\\Softwares\\\\Anaconda3\\\\lib', 'C:\\\\Softwares\\\\Anaconda3', '', 'C:\\\\Softwares\\\\Anaconda3\\\\lib\\\\site-packages', 'C:\\\\Softwares\\\\Anaconda3\\\\lib\\\\site-packages\\\\locket-0.2.1-py3.7.egg', 'C:\\\\Softwares\\\\Anaconda3\\\\lib\\\\site-packages\\\\win32', 'C:\\\\Softwares\\\\Anaconda3\\\\lib\\\\site-packages\\\\win32\\\\lib', 'C:\\\\Softwares\\\\Anaconda3\\\\lib\\\\site-packages\\\\Pythonwin', 'C:\\\\Softwares\\\\Anaconda3\\\\lib\\\\site-packages\\\\IPython\\\\extensions', 'C:\\\\Users\\\\Eric\\\\.ipython']\n"
     ]
    }
   ],
   "source": [
    "import sales\n",
    "import sys\n",
    "\n",
    "print(sys.path)"
   ]
  },
  {
   "cell_type": "markdown",
   "id": "latest-attribute",
   "metadata": {},
   "source": [
    "## Packages"
   ]
  },
  {
   "cell_type": "markdown",
   "id": "skilled-technology",
   "metadata": {},
   "source": [
    "A container for one or more modules.  \n",
    "\n",
    "It's not good to save all the files in one folder, especially when there are a lot of files. So we will save some in other (sub)folders. For example, we creat a subfolder *ecommerce* with a file *sales_new.py*. We want to import this file."
   ]
  },
  {
   "cell_type": "code",
   "execution_count": 4,
   "id": "expensive-plastic",
   "metadata": {},
   "outputs": [
    {
     "ename": "ModuleNotFoundError",
     "evalue": "No module named 'sales_new'",
     "output_type": "error",
     "traceback": [
      "\u001b[1;31m---------------------------------------------------------------------------\u001b[0m",
      "\u001b[1;31mModuleNotFoundError\u001b[0m                       Traceback (most recent call last)",
      "\u001b[1;32m<ipython-input-4-0651dfdfb381>\u001b[0m in \u001b[0;36m<module>\u001b[1;34m\u001b[0m\n\u001b[1;32m----> 1\u001b[1;33m \u001b[1;32mimport\u001b[0m \u001b[0msales_new\u001b[0m\u001b[1;33m\u001b[0m\u001b[1;33m\u001b[0m\u001b[0m\n\u001b[0m",
      "\u001b[1;31mModuleNotFoundError\u001b[0m: No module named 'sales_new'"
     ]
    }
   ],
   "source": [
    "import sales_new"
   ]
  },
  {
   "cell_type": "markdown",
   "id": "dynamic-wrong",
   "metadata": {},
   "source": [
    "How to solve the above error? We need to add a new file *\\_\\_init__.py* in the subfolder *ecommerce*. With this file, Python will treat the *ecommerce* folder as a package. In file system terms, a package is a map to a directory, while a module is a map to a file. Now, see how to import it as follows."
   ]
  },
  {
   "cell_type": "code",
   "execution_count": 7,
   "id": "marked-circle",
   "metadata": {},
   "outputs": [],
   "source": [
    "import ecommerce.sales_new\n",
    "\n",
    "ecommerce.sales_new.calc_shipping()\n",
    "ecommerce.sales_new.calc_tax()"
   ]
  },
  {
   "cell_type": "code",
   "execution_count": 10,
   "id": "blind-variation",
   "metadata": {},
   "outputs": [],
   "source": [
    "# another way\n",
    "from ecommerce.sales_new import calc_tax, calc_shipping\n",
    "\n",
    "calc_tax()\n",
    "calc_shipping()"
   ]
  },
  {
   "cell_type": "code",
   "execution_count": 11,
   "id": "divine-affiliation",
   "metadata": {},
   "outputs": [],
   "source": [
    "# third way\n",
    "from ecommerce import sales_new # as an object\n",
    "\n",
    "sales_new.calc_shipping()\n",
    "sales_new.calc_tax()"
   ]
  },
  {
   "cell_type": "markdown",
   "id": "constitutional-research",
   "metadata": {},
   "source": [
    "## Sub-packages"
   ]
  },
  {
   "cell_type": "markdown",
   "id": "sustained-north",
   "metadata": {},
   "source": [
    "Sometimes, we even have subsubfolders in a subfolder to store some useful files. The same procedure applies. Add the *\\_\\_init__.py* file to make it a sub-package, then import the modules inside. Here, the subsubfolder is *shopping*, which is in the subfolder *ecommerce*. We're interested in the file *sales_new_again.py* in *shopping*."
   ]
  },
  {
   "cell_type": "code",
   "execution_count": 14,
   "id": "looking-potter",
   "metadata": {},
   "outputs": [],
   "source": [
    "from ecommerce.shopping import sales_new_again\n",
    "\n",
    "sales_new_again.calc_shipping()"
   ]
  },
  {
   "cell_type": "markdown",
   "id": "faced-thomson",
   "metadata": {},
   "source": [
    "## Intra-package References"
   ]
  },
  {
   "cell_type": "markdown",
   "id": "prostate-atlanta",
   "metadata": {},
   "source": [
    "Sometimes you want to import modules from sibling packages. For example, we have two subfolders *shopping* and *customer* in the folder *ecommerce*. A file *shopping.py* in the folder *shopping* need to import a module, which is *contact.py* in the folder *customer*."
   ]
  },
  {
   "cell_type": "markdown",
   "id": "greenhouse-asset",
   "metadata": {},
   "source": [
    "```python\n",
    "import sys\n",
    "# Relative path import\n",
    "sys.path.append(\".\\\\\") # one level above\n",
    "from ecommerce.customer import contact\n",
    "\n",
    "contact.contact_customer()\n",
    "```"
   ]
  },
  {
   "cell_type": "markdown",
   "id": "unexpected-talent",
   "metadata": {},
   "source": [
    "```py\n",
    "import sys\n",
    "# Absolute path import\n",
    "sys.path.append(\"C:\\\\Users\\\\Eric\\\\OneDrive\\\\文档\\\\GitHub\\\\Python-course\\\\Modules\\\\ecommerce\\\\customer\")\n",
    "import contact\n",
    "\n",
    "contact.contact_customer()\n",
    "```"
   ]
  },
  {
   "cell_type": "markdown",
   "id": "supreme-sculpture",
   "metadata": {},
   "source": [
    "In windows, we need to add \".\\\\\\\\\" or multiple \".\\\\\\\\\" to the path to import modules from other directaries. Here, since we want to import a module in a neighborhood folder, so we use one \".\\\\\\\\\". If we want to go to two levels above, we need \".\\\\\\\\.\\\\\\\\\".  \n",
    "Also note that when import absolutely, for windows, we need to use \"\\\\\\\\\" when write down the address."
   ]
  },
  {
   "cell_type": "markdown",
   "id": "smoking-candy",
   "metadata": {},
   "source": [
    "## The dir() Function"
   ]
  },
  {
   "cell_type": "code",
   "execution_count": 15,
   "id": "conscious-persian",
   "metadata": {},
   "outputs": [
    {
     "name": "stdout",
     "output_type": "stream",
     "text": [
      "['__builtins__', '__cached__', '__doc__', '__file__', '__loader__', '__name__', '__package__', '__spec__', 'calc_shipping', 'calc_tax']\n"
     ]
    }
   ],
   "source": [
    "from ecommerce.shopping import sales_new_again\n",
    "\n",
    "print(dir(sales_new_again))"
   ]
  },
  {
   "cell_type": "code",
   "execution_count": 16,
   "id": "intellectual-clone",
   "metadata": {},
   "outputs": [
    {
     "name": "stdout",
     "output_type": "stream",
     "text": [
      "ecommerce.shopping.sales_new_again\n",
      "ecommerce.shopping\n",
      "C:\\Users\\Eric\\OneDrive\\文档\\GitHub\\Python-course\\Modules\\ecommerce\\shopping\\sales_new_again.py\n"
     ]
    }
   ],
   "source": [
    "print(sales_new_again.__name__)\n",
    "print(sales_new_again.__package__)\n",
    "print(sales_new_again.__file__)"
   ]
  },
  {
   "cell_type": "markdown",
   "id": "meaningful-intent",
   "metadata": {},
   "source": [
    "## Executing Modules as Scripts"
   ]
  },
  {
   "cell_type": "markdown",
   "id": "global-session",
   "metadata": {},
   "source": [
    "If we say, *test.py* will import a module *sales_new_again.py* from a subpackage *shopping*, which belongs to a package called *ecommerce*. "
   ]
  },
  {
   "cell_type": "markdown",
   "id": "arabic-cylinder",
   "metadata": {},
   "source": [
    "The following is the code of *sales_new_again.py*.\n",
    "```py\n",
    "print(\"Sales initialized.\", __name__)\n",
    "\n",
    "def calc_tax():\n",
    "    # pass\n",
    "    print(\"a\")\n",
    "\n",
    "def calc_shipping():\n",
    "    pass\n",
    "```"
   ]
  },
  {
   "cell_type": "markdown",
   "id": "responsible-commitment",
   "metadata": {},
   "source": [
    "If we run the above file, we get \n",
    "```py\n",
    "Sales initialized. __main__\n",
    "```"
   ]
  },
  {
   "cell_type": "markdown",
   "id": "alternate-cemetery",
   "metadata": {},
   "source": [
    "Let's look at what's in *test.py*.\n",
    "```py\n",
    "from ecommerce.shopping import sales_new_again\n",
    "\n",
    "print(\"test started\")\n",
    "```"
   ]
  },
  {
   "cell_type": "markdown",
   "id": "coral-chess",
   "metadata": {},
   "source": [
    "Run this *test.py* and we get\n",
    "```py\n",
    "Sales initialized. ecommerce.shopping.sales_new_again\n",
    "test started\n",
    "```"
   ]
  },
  {
   "cell_type": "markdown",
   "id": "involved-likelihood",
   "metadata": {},
   "source": [
    "We can see that the *\\_\\_name__* attribute of *sales_new_again* shows differently. The thing is that if we run the module directly, its name will be *\\_\\_main__*. However, if we import it to another file, its name would be its real name. We can add some expressions following \"if \\_\\_name__ == '\\_\\_main__' \" as follows,\n",
    "```py\n",
    "if __name__ == \"__main__\":\n",
    "    print(\"Executed only when we directly run this file.\")\n",
    "```"
   ]
  },
  {
   "cell_type": "markdown",
   "id": "welcome-bangladesh",
   "metadata": {},
   "source": [
    "The output of the above file is:\n",
    "```py\n",
    "Sales initialized. __main__\n",
    "Executed only when we directly run this file.\n",
    "```"
   ]
  },
  {
   "cell_type": "markdown",
   "id": "authentic-plane",
   "metadata": {},
   "source": [
    "Now, if we run *test.py* again, we get\n",
    "```py\n",
    "Sales initialized. ecommerce.shopping.sales_new_again\n",
    "test started\n",
    "```\n",
    "We see the message doesn't appear."
   ]
  }
 ],
 "metadata": {
  "kernelspec": {
   "display_name": "Python 3",
   "language": "python",
   "name": "python3"
  },
  "language_info": {
   "codemirror_mode": {
    "name": "ipython",
    "version": 3
   },
   "file_extension": ".py",
   "mimetype": "text/x-python",
   "name": "python",
   "nbconvert_exporter": "python",
   "pygments_lexer": "ipython3",
   "version": "3.7.6"
  }
 },
 "nbformat": 4,
 "nbformat_minor": 5
}
