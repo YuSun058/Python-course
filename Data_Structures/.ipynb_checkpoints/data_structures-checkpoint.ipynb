{
 "cells": [
  {
   "cell_type": "markdown",
   "id": "fantastic-republican",
   "metadata": {},
   "source": [
    "## Lists"
   ]
  },
  {
   "cell_type": "markdown",
   "id": "outside-ivory",
   "metadata": {},
   "source": [
    "A list of list:"
   ]
  },
  {
   "cell_type": "code",
   "execution_count": 2,
   "id": "turkish-arizona",
   "metadata": {},
   "outputs": [
    {
     "data": {
      "text/plain": [
       "[[1, 2], [3, 4]]"
      ]
     },
     "execution_count": 2,
     "metadata": {},
     "output_type": "execute_result"
    }
   ],
   "source": [
    "matrix = [[1, 2], [3, 4]]\n",
    "matrix"
   ]
  },
  {
   "cell_type": "markdown",
   "id": "loaded-afternoon",
   "metadata": {},
   "source": [
    "Multiply:"
   ]
  },
  {
   "cell_type": "code",
   "execution_count": 1,
   "id": "actual-shadow",
   "metadata": {},
   "outputs": [
    {
     "data": {
      "text/plain": [
       "[0, 0, 0, 0, 0]"
      ]
     },
     "execution_count": 1,
     "metadata": {},
     "output_type": "execute_result"
    }
   ],
   "source": [
    "zeros = [0] * 5\n",
    "zeros"
   ]
  },
  {
   "cell_type": "markdown",
   "id": "senior-falls",
   "metadata": {},
   "source": [
    "Add:"
   ]
  },
  {
   "cell_type": "code",
   "execution_count": 3,
   "id": "rubber-minneapolis",
   "metadata": {},
   "outputs": [
    {
     "data": {
      "text/plain": [
       "[0, 0, 0, 0, 0, 'a', 'b', 'c']"
      ]
     },
     "execution_count": 3,
     "metadata": {},
     "output_type": "execute_result"
    }
   ],
   "source": [
    "names = ['a', 'b', 'c']\n",
    "combined = zeros + names\n",
    "combined"
   ]
  },
  {
   "cell_type": "markdown",
   "id": "binary-metadata",
   "metadata": {},
   "source": [
    "An easy way to construct a list: any iterable item can be put into the 'list' function."
   ]
  },
  {
   "cell_type": "code",
   "execution_count": 4,
   "id": "another-tongue",
   "metadata": {},
   "outputs": [
    {
     "name": "stdout",
     "output_type": "stream",
     "text": [
      "[0, 1, 2, 3, 4, 5]\n"
     ]
    }
   ],
   "source": [
    "print(list(range(6)))"
   ]
  },
  {
   "cell_type": "code",
   "execution_count": 5,
   "id": "rural-night",
   "metadata": {},
   "outputs": [
    {
     "name": "stdout",
     "output_type": "stream",
     "text": [
      "['H', 'e', 'l', 'l', 'o', ' ', 'W', 'o', 'r', 'l', 'd']\n"
     ]
    }
   ],
   "source": [
    "print(list(\"Hello World\"))"
   ]
  },
  {
   "cell_type": "code",
   "execution_count": 6,
   "id": "central-coordinate",
   "metadata": {},
   "outputs": [
    {
     "data": {
      "text/plain": [
       "11"
      ]
     },
     "execution_count": 6,
     "metadata": {},
     "output_type": "execute_result"
    }
   ],
   "source": [
    "len(list(\"Hello world\"))"
   ]
  },
  {
   "cell_type": "markdown",
   "id": "legitimate-trace",
   "metadata": {},
   "source": [
    "## Accessing Items"
   ]
  },
  {
   "cell_type": "code",
   "execution_count": 7,
   "id": "compliant-morgan",
   "metadata": {},
   "outputs": [
    {
     "name": "stdout",
     "output_type": "stream",
     "text": [
      "['A', 'b', 'c', 'd']\n",
      "['A', 'b', 'c']\n",
      "['A', 'c']\n",
      "['d', 'c', 'b', 'A']\n"
     ]
    }
   ],
   "source": [
    "letters = [\"a\", \"b\", \"c\", \"d\"]\n",
    "letters[0] = \"A\"\n",
    "print(letters)\n",
    "print(letters[0:3])\n",
    "print(letters[::2])\n",
    "print(letters[::-1])"
   ]
  },
  {
   "cell_type": "markdown",
   "id": "deluxe-relation",
   "metadata": {},
   "source": [
    "## List Unpacking"
   ]
  },
  {
   "cell_type": "code",
   "execution_count": 8,
   "id": "excessive-yield",
   "metadata": {},
   "outputs": [
    {
     "name": "stdout",
     "output_type": "stream",
     "text": [
      "1 2 3\n",
      "1 2 3\n"
     ]
    }
   ],
   "source": [
    "numbers = [1, 2, 3]\n",
    "first = numbers[0]\n",
    "second = numbers[1]\n",
    "third = numbers[2]\n",
    "print(first, second, third)\n",
    "\n",
    "fir, sec, thr = numbers # pay attention to the numbers of elements\n",
    "print(fir, sec, thr)"
   ]
  },
  {
   "cell_type": "markdown",
   "id": "practical-animal",
   "metadata": {},
   "source": [
    "What if we only want to take the first two items in a list?"
   ]
  },
  {
   "cell_type": "code",
   "execution_count": 11,
   "id": "encouraging-entrance",
   "metadata": {},
   "outputs": [
    {
     "name": "stdout",
     "output_type": "stream",
     "text": [
      "1 2\n",
      "[3, 4, 5]\n"
     ]
    }
   ],
   "source": [
    "numbers = [1, 2, 3, 4, 5]\n",
    "first, second, *other = numbers # use a '*other', which is actually a packing for the rest part of list\n",
    "print(first, second)\n",
    "print(other)"
   ]
  },
  {
   "cell_type": "markdown",
   "id": "individual-participant",
   "metadata": {},
   "source": [
    "What if we only care about the first and last items?"
   ]
  },
  {
   "cell_type": "code",
   "execution_count": 12,
   "id": "failing-reply",
   "metadata": {},
   "outputs": [
    {
     "name": "stdout",
     "output_type": "stream",
     "text": [
      "1 5 [2, 3, 4]\n"
     ]
    }
   ],
   "source": [
    "first, *other, last = numbers\n",
    "print(first, last, other)"
   ]
  },
  {
   "cell_type": "markdown",
   "id": "advisory-execution",
   "metadata": {},
   "source": [
    "## Looping over Lists"
   ]
  },
  {
   "cell_type": "markdown",
   "id": "aggregate-slovenia",
   "metadata": {},
   "source": [
    "What if we want to get the index of each item as well? We use 'enumerate()', which returns an iterable object, to get a tuple:"
   ]
  },
  {
   "cell_type": "code",
   "execution_count": 14,
   "id": "ethical-taylor",
   "metadata": {},
   "outputs": [
    {
     "name": "stdout",
     "output_type": "stream",
     "text": [
      "(0, 'a')\n",
      "0 a\n",
      "(1, 'b')\n",
      "1 b\n",
      "(2, 'c')\n",
      "2 c\n"
     ]
    }
   ],
   "source": [
    "letters = [\"a\", \"b\", \"c\"]\n",
    "for letter in enumerate(letters):\n",
    "    print(letter)\n",
    "    print(letter[0], letter[1])"
   ]
  },
  {
   "cell_type": "markdown",
   "id": "perfect-trustee",
   "metadata": {},
   "source": [
    "We can make use of list unpacking to simplify the code:"
   ]
  },
  {
   "cell_type": "code",
   "execution_count": 15,
   "id": "refined-american",
   "metadata": {},
   "outputs": [
    {
     "name": "stdout",
     "output_type": "stream",
     "text": [
      "0 a\n",
      "1 b\n",
      "2 c\n"
     ]
    }
   ],
   "source": [
    "letters = [\"a\", \"b\", \"c\"]\n",
    "for index, letter in enumerate(letters):\n",
    "    print(index, letter)"
   ]
  },
  {
   "cell_type": "markdown",
   "id": "sunrise-violation",
   "metadata": {},
   "source": [
    "## Adding or Removing Items"
   ]
  },
  {
   "cell_type": "markdown",
   "id": "motivated-haiti",
   "metadata": {},
   "source": [
    "Add:  \n",
    "append(): at the end of the object  \n",
    "insert(): at a specific position"
   ]
  },
  {
   "cell_type": "code",
   "execution_count": 17,
   "id": "daily-hypothesis",
   "metadata": {},
   "outputs": [
    {
     "name": "stdout",
     "output_type": "stream",
     "text": [
      "['a', 'b', 'c', 'd']\n"
     ]
    }
   ],
   "source": [
    "letters = [\"a\", \"b\", \"c\"]\n",
    "letters.append(\"d\")\n",
    "print(letters)"
   ]
  },
  {
   "cell_type": "code",
   "execution_count": 20,
   "id": "cooperative-mailing",
   "metadata": {},
   "outputs": [
    {
     "name": "stdout",
     "output_type": "stream",
     "text": [
      "['-', 'a', 'b', 'c', 'd']\n"
     ]
    }
   ],
   "source": [
    "letters.insert(0, \"-\")\n",
    "print(letters)"
   ]
  },
  {
   "cell_type": "markdown",
   "id": "0d8475e5",
   "metadata": {},
   "source": [
    "Remove:  \n",
    "pop(): at the end of the list or at a given index, only remove one item;  \n",
    "remove(): if you don't know the index, will remove the first occurrence of the item;    \n",
    "del: delete the items selected, one or multiples;  \n",
    "clear(): remove the entire object"
   ]
  },
  {
   "cell_type": "code",
   "execution_count": 21,
   "id": "middle-baking",
   "metadata": {},
   "outputs": [
    {
     "name": "stdout",
     "output_type": "stream",
     "text": [
      "['-', 'a', 'b', 'c']\n"
     ]
    }
   ],
   "source": [
    "letters.pop()\n",
    "print(letters)"
   ]
  },
  {
   "cell_type": "code",
   "execution_count": 22,
   "id": "transsexual-syntax",
   "metadata": {},
   "outputs": [
    {
     "name": "stdout",
     "output_type": "stream",
     "text": [
      "['a', 'b', 'c']\n"
     ]
    }
   ],
   "source": [
    "letters.pop(0)\n",
    "print(letters)"
   ]
  },
  {
   "cell_type": "code",
   "execution_count": 24,
   "id": "favorite-trace",
   "metadata": {},
   "outputs": [
    {
     "name": "stdout",
     "output_type": "stream",
     "text": [
      "['a', 'b', 'c', 'b']\n",
      "['a', 'c', 'b']\n"
     ]
    }
   ],
   "source": [
    "letters = [\"a\", \"b\", \"c\", \"b\"]\n",
    "print(letters)\n",
    "letters.remove(\"b\")\n",
    "print(letters)"
   ]
  },
  {
   "cell_type": "code",
   "execution_count": 25,
   "id": "dressed-waters",
   "metadata": {},
   "outputs": [
    {
     "name": "stdout",
     "output_type": "stream",
     "text": [
      "['a', 'b', 'c', 'b']\n",
      "['b']\n"
     ]
    }
   ],
   "source": [
    "letters = [\"a\", \"b\", \"c\", \"b\"]\n",
    "print(letters)\n",
    "del letters[0:3]\n",
    "print(letters)"
   ]
  },
  {
   "cell_type": "code",
   "execution_count": 26,
   "id": "acoustic-conservation",
   "metadata": {},
   "outputs": [
    {
     "name": "stdout",
     "output_type": "stream",
     "text": [
      "['a', 'b', 'c', 'b']\n",
      "[]\n"
     ]
    }
   ],
   "source": [
    "letters = [\"a\", \"b\", \"c\", \"b\"]\n",
    "print(letters)\n",
    "letters.clear()\n",
    "print(letters)"
   ]
  },
  {
   "cell_type": "markdown",
   "id": "japanese-jungle",
   "metadata": {},
   "source": [
    "## Finding Items"
   ]
  },
  {
   "cell_type": "code",
   "execution_count": 27,
   "id": "mysterious-andrew",
   "metadata": {},
   "outputs": [
    {
     "name": "stdout",
     "output_type": "stream",
     "text": [
      "0\n"
     ]
    }
   ],
   "source": [
    "letters = [\"a\", \"b\", \"c\"]\n",
    "print(letters.index(\"a\"))"
   ]
  },
  {
   "cell_type": "markdown",
   "id": "external-training",
   "metadata": {},
   "source": [
    "What if the item is not in the list?"
   ]
  },
  {
   "cell_type": "code",
   "execution_count": 28,
   "id": "single-albania",
   "metadata": {},
   "outputs": [
    {
     "ename": "ValueError",
     "evalue": "'d' is not in list",
     "output_type": "error",
     "traceback": [
      "\u001b[1;31m---------------------------------------------------------------------------\u001b[0m",
      "\u001b[1;31mValueError\u001b[0m                                Traceback (most recent call last)",
      "\u001b[1;32m<ipython-input-28-697e06fb6502>\u001b[0m in \u001b[0;36m<module>\u001b[1;34m\u001b[0m\n\u001b[1;32m----> 1\u001b[1;33m \u001b[0mprint\u001b[0m\u001b[1;33m(\u001b[0m\u001b[0mletters\u001b[0m\u001b[1;33m.\u001b[0m\u001b[0mindex\u001b[0m\u001b[1;33m(\u001b[0m\u001b[1;34m\"d\"\u001b[0m\u001b[1;33m)\u001b[0m\u001b[1;33m)\u001b[0m\u001b[1;33m\u001b[0m\u001b[1;33m\u001b[0m\u001b[0m\n\u001b[0m",
      "\u001b[1;31mValueError\u001b[0m: 'd' is not in list"
     ]
    }
   ],
   "source": [
    "print(letters.index(\"d\"))"
   ]
  },
  {
   "cell_type": "markdown",
   "id": "found-wellington",
   "metadata": {},
   "source": [
    "To make sure the existence of certain item, some useful methods:"
   ]
  },
  {
   "cell_type": "code",
   "execution_count": 29,
   "id": "latter-stake",
   "metadata": {},
   "outputs": [
    {
     "name": "stdout",
     "output_type": "stream",
     "text": [
      "0\n"
     ]
    }
   ],
   "source": [
    "letters = [\"a\", \"b\", \"c\"]\n",
    "print(letters.count(\"d\"))"
   ]
  },
  {
   "cell_type": "code",
   "execution_count": 30,
   "id": "funky-hydrogen",
   "metadata": {},
   "outputs": [],
   "source": [
    "if \"d\" in letters:\n",
    "    print(letters.index(\"d\"))"
   ]
  },
  {
   "cell_type": "markdown",
   "id": "smoking-surfing",
   "metadata": {},
   "source": [
    "## Sorting Lists"
   ]
  },
  {
   "cell_type": "code",
   "execution_count": 31,
   "id": "collectible-collectible",
   "metadata": {},
   "outputs": [
    {
     "name": "stdout",
     "output_type": "stream",
     "text": [
      "[2, 3, 6, 8, 51]\n"
     ]
    }
   ],
   "source": [
    "numbers = [3, 51, 2, 8, 6]\n",
    "numbers.sort()# modify the original list\n",
    "print(numbers)"
   ]
  },
  {
   "cell_type": "code",
   "execution_count": 32,
   "id": "described-looking",
   "metadata": {},
   "outputs": [
    {
     "name": "stdout",
     "output_type": "stream",
     "text": [
      "[51, 8, 6, 3, 2]\n"
     ]
    }
   ],
   "source": [
    "numbers.sort(reverse=True)\n",
    "print(numbers)"
   ]
  },
  {
   "cell_type": "markdown",
   "id": "desperate-domestic",
   "metadata": {},
   "source": [
    "To unmodify the original list:"
   ]
  },
  {
   "cell_type": "code",
   "execution_count": 35,
   "id": "shaped-think",
   "metadata": {},
   "outputs": [
    {
     "name": "stdout",
     "output_type": "stream",
     "text": [
      "[2, 3, 6, 8, 51]\n",
      "[51, 8, 6, 3, 2]\n",
      "[3, 51, 2, 8, 6]\n"
     ]
    }
   ],
   "source": [
    "numbers = [3, 51, 2, 8, 6]\n",
    "print(sorted(numbers))\n",
    "print(sorted(numbers, reverse=True))\n",
    "print(numbers)"
   ]
  },
  {
   "cell_type": "markdown",
   "id": "split-tutorial",
   "metadata": {},
   "source": [
    "What if we have complex things? For examples, tuples."
   ]
  },
  {
   "cell_type": "code",
   "execution_count": 1,
   "id": "systematic-boundary",
   "metadata": {},
   "outputs": [
    {
     "name": "stdout",
     "output_type": "stream",
     "text": [
      "[('Product1', 10), ('Product2', 9), ('Product3', 12)]\n"
     ]
    }
   ],
   "source": [
    "items = [\n",
    "    (\"Product1\", 10),\n",
    "    (\"Product2\", 9),\n",
    "    (\"Product3\", 12),\n",
    "]\n",
    "items.sort()\n",
    "print(items)"
   ]
  },
  {
   "cell_type": "markdown",
   "id": "engaging-finish",
   "metadata": {},
   "source": [
    "Nothing changes because Python doesn't know how to sort this list. Now, define a function that Python will use for sorting lists."
   ]
  },
  {
   "cell_type": "code",
   "execution_count": 2,
   "id": "difficult-mainstream",
   "metadata": {},
   "outputs": [
    {
     "name": "stdout",
     "output_type": "stream",
     "text": [
      "[('Product2', 9), ('Product1', 10), ('Product3', 12)]\n"
     ]
    }
   ],
   "source": [
    "def sort_item(item):\n",
    "    return item[1]\n",
    "\n",
    "items.sort(key=sort_item) # not calling this function, only passing the reference of this function\n",
    "print(items)"
   ]
  },
  {
   "cell_type": "markdown",
   "id": "knowing-facial",
   "metadata": {},
   "source": [
    "When Python tries to sort the list, it gets each item and pass it to the sort_item() function."
   ]
  },
  {
   "cell_type": "markdown",
   "id": "under-crime",
   "metadata": {},
   "source": [
    "## Lambda Functions"
   ]
  },
  {
   "cell_type": "markdown",
   "id": "quarterly-inflation",
   "metadata": {},
   "source": [
    "Basically a one line anonymous function to pass in another functions."
   ]
  },
  {
   "cell_type": "code",
   "execution_count": 5,
   "id": "invisible-modern",
   "metadata": {},
   "outputs": [
    {
     "name": "stdout",
     "output_type": "stream",
     "text": [
      "[('Product2', 9), ('Product1', 10), ('Product3', 12)]\n"
     ]
    }
   ],
   "source": [
    "items = [\n",
    "    (\"Product1\", 10),\n",
    "    (\"Product2\", 9),\n",
    "    (\"Product3\", 12),\n",
    "]\n",
    "items.sort(key=lambda item: item[1])# lambda parameters:expression\n",
    "print(items)"
   ]
  },
  {
   "cell_type": "markdown",
   "id": "acknowledged-proxy",
   "metadata": {},
   "source": [
    "## Map Function"
   ]
  },
  {
   "cell_type": "markdown",
   "id": "naughty-cheat",
   "metadata": {},
   "source": [
    "We want to transform the following list into a list of its prices."
   ]
  },
  {
   "cell_type": "code",
   "execution_count": 6,
   "id": "awful-enlargement",
   "metadata": {},
   "outputs": [
    {
     "name": "stdout",
     "output_type": "stream",
     "text": [
      "[10, 9, 12]\n"
     ]
    }
   ],
   "source": [
    "items = [\n",
    "    (\"Product1\", 10),\n",
    "    (\"Product2\", 9),\n",
    "    (\"Product3\", 12),\n",
    "]\n",
    "prices = []\n",
    "for item in items:\n",
    "    prices.append(item[1])\n",
    "print(prices)"
   ]
  },
  {
   "cell_type": "markdown",
   "id": "selected-collectible",
   "metadata": {},
   "source": [
    "Use the *map()* function: the first input is a function, and the second input is an iterable object."
   ]
  },
  {
   "cell_type": "code",
   "execution_count": 7,
   "id": "equipped-obligation",
   "metadata": {},
   "outputs": [
    {
     "name": "stdout",
     "output_type": "stream",
     "text": [
      "<map object at 0x00000154FD284308>\n",
      "[10, 9, 12]\n"
     ]
    }
   ],
   "source": [
    "x = map(lambda item: item[1], items) # this is also an iterable object\n",
    "print(x)\n",
    "prices = list(x)\n",
    "print(prices)"
   ]
  },
  {
   "cell_type": "markdown",
   "id": "lined-divorce",
   "metadata": {},
   "source": [
    "## Filter Function"
   ]
  },
  {
   "cell_type": "markdown",
   "id": "trained-duncan",
   "metadata": {},
   "source": [
    "Let's say that we want to filter the above items and only get the items with price >= 12.  \n",
    "Use *filter()* function, also with the function and iterable inputs."
   ]
  },
  {
   "cell_type": "code",
   "execution_count": 8,
   "id": "supreme-congo",
   "metadata": {},
   "outputs": [
    {
     "name": "stdout",
     "output_type": "stream",
     "text": [
      "<filter object at 0x00000154FDCDC048>\n",
      "[('Product1', 10), ('Product3', 12)]\n"
     ]
    }
   ],
   "source": [
    "items = [\n",
    "    (\"Product1\", 10),\n",
    "    (\"Product2\", 9),\n",
    "    (\"Product3\", 12),\n",
    "]\n",
    "x = filter(lambda item: item[1] >= 10, items) # also an iterable\n",
    "print(x)\n",
    "filtered_list = list(x)\n",
    "print(filtered_list)"
   ]
  },
  {
   "cell_type": "markdown",
   "id": "narrative-brake",
   "metadata": {},
   "source": [
    "## List Comprehensions"
   ]
  },
  {
   "cell_type": "markdown",
   "id": "threatened-fluid",
   "metadata": {},
   "source": [
    "[expression for item in items]  \n",
    "[expression for item in items if item......]\n"
   ]
  },
  {
   "cell_type": "code",
   "execution_count": 10,
   "id": "rough-briefing",
   "metadata": {},
   "outputs": [
    {
     "name": "stdout",
     "output_type": "stream",
     "text": [
      "[10, 9, 12]\n"
     ]
    }
   ],
   "source": [
    "items = [\n",
    "    (\"Product1\", 10),\n",
    "    (\"Product2\", 9),\n",
    "    (\"Product3\", 12),\n",
    "]\n",
    "prices = [item[1] for item in items]\n",
    "print(prices)"
   ]
  },
  {
   "cell_type": "code",
   "execution_count": 11,
   "id": "driven-publicity",
   "metadata": {},
   "outputs": [
    {
     "name": "stdout",
     "output_type": "stream",
     "text": [
      "[('Product1', 10), ('Product3', 12)]\n"
     ]
    }
   ],
   "source": [
    "filtered_prices = [item for item in items if item[1] >= 10]\n",
    "print(filtered_prices)"
   ]
  },
  {
   "cell_type": "markdown",
   "id": "broke-message",
   "metadata": {},
   "source": [
    "## Zip Function"
   ]
  },
  {
   "cell_type": "markdown",
   "id": "nervous-might",
   "metadata": {},
   "source": [
    "We want to combine different lists into one list consisting of tuples."
   ]
  },
  {
   "cell_type": "code",
   "execution_count": 12,
   "id": "ready-arthritis",
   "metadata": {},
   "outputs": [
    {
     "name": "stdout",
     "output_type": "stream",
     "text": [
      "<zip object at 0x00000154FDD46AC8>\n"
     ]
    }
   ],
   "source": [
    "list1 = [1, 2, 3]\n",
    "list2 = [10, 20, 30]\n",
    "print(zip(list1, list2))"
   ]
  },
  {
   "cell_type": "code",
   "execution_count": 13,
   "id": "quantitative-wallet",
   "metadata": {},
   "outputs": [
    {
     "name": "stdout",
     "output_type": "stream",
     "text": [
      "[('a', 1, 10), ('b', 2, 20), ('c', 3, 30)]\n"
     ]
    }
   ],
   "source": [
    "print(list(zip(\"abc\", list1, list2)))"
   ]
  },
  {
   "cell_type": "markdown",
   "id": "computational-hostel",
   "metadata": {},
   "source": [
    "## Stacks"
   ]
  },
  {
   "cell_type": "markdown",
   "id": "local-separation",
   "metadata": {},
   "source": [
    "Resemble a stack of items in real world. For examples, we stack many books, and the last book is the first one that we can take out to read. **Last In, First Out (LIFO)**"
   ]
  },
  {
   "cell_type": "code",
   "execution_count": 17,
   "id": "valid-adobe",
   "metadata": {},
   "outputs": [
    {
     "name": "stdout",
     "output_type": "stream",
     "text": [
      "[1, 2, 3]\n"
     ]
    }
   ],
   "source": [
    "browing_session = []\n",
    "browing_session.append(1)\n",
    "browing_session.append(2)\n",
    "browing_session.append(3)\n",
    "print(browing_session)"
   ]
  },
  {
   "cell_type": "code",
   "execution_count": 18,
   "id": "specific-venue",
   "metadata": {},
   "outputs": [
    {
     "name": "stdout",
     "output_type": "stream",
     "text": [
      "3\n",
      "[1, 2]\n"
     ]
    }
   ],
   "source": [
    "# take out the last one\n",
    "last = browing_session.pop()\n",
    "print(last)\n",
    "print(browing_session)"
   ]
  },
  {
   "cell_type": "code",
   "execution_count": 19,
   "id": "spare-isaac",
   "metadata": {},
   "outputs": [
    {
     "name": "stdout",
     "output_type": "stream",
     "text": [
      "2\n"
     ]
    }
   ],
   "source": [
    "print(browing_session[-1])"
   ]
  },
  {
   "cell_type": "code",
   "execution_count": 22,
   "id": "outdoor-ethernet",
   "metadata": {},
   "outputs": [],
   "source": [
    "# How to check the list is not empty?\n",
    "if not browing_session:\n",
    "    print(\"disable to back out\")\n",
    "    "
   ]
  },
  {
   "cell_type": "markdown",
   "id": "willing-tiffany",
   "metadata": {},
   "source": [
    "## Queues"
   ]
  },
  {
   "cell_type": "markdown",
   "id": "neutral-cologne",
   "metadata": {},
   "source": [
    "Resemble a queue in the real world. **First In, First Out (FIFO)**  \n",
    "Every time we remove an item from the beginning of the list, all the other items need to be shifted to the left. They need to move in the memory, which is not good when the list is very large. It's more efficient to use a *deque* object.  \n",
    "First, we need to import *deque* from the *collections* module."
   ]
  },
  {
   "cell_type": "code",
   "execution_count": 23,
   "id": "organized-amazon",
   "metadata": {},
   "outputs": [
    {
     "name": "stdout",
     "output_type": "stream",
     "text": [
      "deque([1, 2, 3])\n"
     ]
    }
   ],
   "source": [
    "from collections import deque # deque is a class\n",
    "queue = deque([]) # wrap the empty list with the deque class\n",
    "# This deque object has the same methods that we have with the list \n",
    "queue.append(1)\n",
    "queue.append(2)\n",
    "queue.append(3)\n",
    "print(queue)"
   ]
  },
  {
   "cell_type": "code",
   "execution_count": 24,
   "id": "incorporate-liberty",
   "metadata": {},
   "outputs": [
    {
     "name": "stdout",
     "output_type": "stream",
     "text": [
      "deque([2, 3])\n"
     ]
    }
   ],
   "source": [
    "queue.popleft() # we don't have this method in list object\n",
    "print(queue)"
   ]
  },
  {
   "cell_type": "code",
   "execution_count": 25,
   "id": "narrative-affair",
   "metadata": {},
   "outputs": [
    {
     "name": "stdout",
     "output_type": "stream",
     "text": [
      "Not empty\n"
     ]
    }
   ],
   "source": [
    "# Check if the queue is empty with not method\n",
    "if not queue:\n",
    "    print(\"Empty\")\n",
    "else:\n",
    "    print(\"Not empty\")"
   ]
  },
  {
   "cell_type": "markdown",
   "id": "young-decision",
   "metadata": {},
   "source": [
    "## Tuples"
   ]
  },
  {
   "cell_type": "markdown",
   "id": "infrared-marsh",
   "metadata": {},
   "source": [
    "Basically a read-only list."
   ]
  },
  {
   "cell_type": "code",
   "execution_count": 26,
   "id": "fresh-hopkins",
   "metadata": {},
   "outputs": [
    {
     "name": "stdout",
     "output_type": "stream",
     "text": [
      "(1, 2) <class 'tuple'>\n"
     ]
    }
   ],
   "source": [
    "point = 1, 2 # we can skim the '()'\n",
    "print(point, type(point))"
   ]
  },
  {
   "cell_type": "code",
   "execution_count": 27,
   "id": "elect-arizona",
   "metadata": {},
   "outputs": [
    {
     "name": "stdout",
     "output_type": "stream",
     "text": [
      "(1,) <class 'tuple'>\n"
     ]
    }
   ],
   "source": [
    "point = 1, # this comma is important, o/w it's not a tuple\n",
    "print(point, type(point))"
   ]
  },
  {
   "cell_type": "code",
   "execution_count": 28,
   "id": "powered-siemens",
   "metadata": {},
   "outputs": [
    {
     "name": "stdout",
     "output_type": "stream",
     "text": [
      "() <class 'tuple'>\n"
     ]
    }
   ],
   "source": [
    "# Define an empty tuple\n",
    "point = ()\n",
    "print(point, type(point))"
   ]
  },
  {
   "cell_type": "code",
   "execution_count": 29,
   "id": "studied-columbus",
   "metadata": {},
   "outputs": [
    {
     "name": "stdout",
     "output_type": "stream",
     "text": [
      "(1, 2, 3, 4) <class 'tuple'>\n"
     ]
    }
   ],
   "source": [
    "# Similar to list, we can concatenate different tuples\n",
    "point = (1, 2) + (3, 4)\n",
    "print(point, type(point))"
   ]
  },
  {
   "cell_type": "code",
   "execution_count": 30,
   "id": "indirect-patch",
   "metadata": {},
   "outputs": [
    {
     "name": "stdout",
     "output_type": "stream",
     "text": [
      "(1, 2, 1, 2, 1, 2) <class 'tuple'>\n"
     ]
    }
   ],
   "source": [
    "# Multiply\n",
    "point = (1, 2) * 3\n",
    "print(point, type(point))"
   ]
  },
  {
   "cell_type": "code",
   "execution_count": 33,
   "id": "classified-desktop",
   "metadata": {},
   "outputs": [
    {
     "name": "stdout",
     "output_type": "stream",
     "text": [
      "(1, 2) <class 'tuple'>\n",
      "('H', 'e', 'l', 'l', 'o', ' ', 'W', 'o', 'r', 'l', 'd')\n",
      "Hello\n"
     ]
    }
   ],
   "source": [
    "# Convert an iterable to a tuple: tuple() function\n",
    "point = tuple([1, 2])\n",
    "print(point, type(point))\n",
    "point = tuple(\"Hello World\")\n",
    "print(point)\n",
    "point = (\"Hello\")\n",
    "print(point)"
   ]
  },
  {
   "cell_type": "code",
   "execution_count": 34,
   "id": "brutal-seminar",
   "metadata": {},
   "outputs": [
    {
     "name": "stdout",
     "output_type": "stream",
     "text": [
      "(1, 2)\n"
     ]
    }
   ],
   "source": [
    "# Access items in a tuple\n",
    "point = (1, 2, 3)\n",
    "print(point[0:2])"
   ]
  },
  {
   "cell_type": "code",
   "execution_count": 35,
   "id": "southern-morocco",
   "metadata": {},
   "outputs": [
    {
     "name": "stdout",
     "output_type": "stream",
     "text": [
      "1 2 3\n"
     ]
    }
   ],
   "source": [
    "# Unpack a tuple\n",
    "point = (1, 2, 3)\n",
    "x, y, z = point\n",
    "print(x, y, z)"
   ]
  },
  {
   "cell_type": "code",
   "execution_count": 36,
   "id": "equivalent-election",
   "metadata": {},
   "outputs": [
    {
     "name": "stdout",
     "output_type": "stream",
     "text": [
      "Exist\n"
     ]
    }
   ],
   "source": [
    "# In operator\n",
    "if 2 in point:\n",
    "    print(\"Exist\")"
   ]
  },
  {
   "cell_type": "code",
   "execution_count": 37,
   "id": "fifty-transsexual",
   "metadata": {},
   "outputs": [
    {
     "ename": "TypeError",
     "evalue": "'tuple' object does not support item assignment",
     "output_type": "error",
     "traceback": [
      "\u001b[1;31m---------------------------------------------------------------------------\u001b[0m",
      "\u001b[1;31mTypeError\u001b[0m                                 Traceback (most recent call last)",
      "\u001b[1;32m<ipython-input-37-f713258be8e4>\u001b[0m in \u001b[0;36m<module>\u001b[1;34m\u001b[0m\n\u001b[0;32m      1\u001b[0m \u001b[1;31m# Immutable\u001b[0m\u001b[1;33m\u001b[0m\u001b[1;33m\u001b[0m\u001b[1;33m\u001b[0m\u001b[0m\n\u001b[1;32m----> 2\u001b[1;33m \u001b[0mpoint\u001b[0m\u001b[1;33m[\u001b[0m\u001b[1;36m0\u001b[0m\u001b[1;33m]\u001b[0m \u001b[1;33m=\u001b[0m \u001b[1;36m10\u001b[0m\u001b[1;33m\u001b[0m\u001b[1;33m\u001b[0m\u001b[0m\n\u001b[0m",
      "\u001b[1;31mTypeError\u001b[0m: 'tuple' object does not support item assignment"
     ]
    }
   ],
   "source": [
    "# Immutable: we don't have methods for a tuple to add or remove items\n",
    "point[0] = 10"
   ]
  },
  {
   "cell_type": "markdown",
   "id": "literary-carpet",
   "metadata": {},
   "source": [
    "You don't want to accidentally modify a sequence, then use a tuple!"
   ]
  },
  {
   "cell_type": "markdown",
   "id": "reflected-block",
   "metadata": {},
   "source": [
    "## Swapping Variables"
   ]
  },
  {
   "cell_type": "markdown",
   "id": "coated-middle",
   "metadata": {},
   "source": [
    "In Python, we can swap the values of two variables in only one line code, without the help of a third variable."
   ]
  },
  {
   "cell_type": "code",
   "execution_count": 38,
   "id": "worth-train",
   "metadata": {},
   "outputs": [
    {
     "name": "stdout",
     "output_type": "stream",
     "text": [
      "x 11\n",
      "y 10\n"
     ]
    }
   ],
   "source": [
    "x = 10\n",
    "y = 11\n",
    "x, y = y, x\n",
    "print(\"x\", x)\n",
    "print(\"y\", y)"
   ]
  },
  {
   "cell_type": "markdown",
   "id": "familiar-delay",
   "metadata": {},
   "source": [
    "The line *x, y = (y, x)* is exactly *x, y = (11, 10)*. By unpacking a tuple, we get what we want.  \n",
    "For this very reason, we can define multiple variables on the same line."
   ]
  },
  {
   "cell_type": "code",
   "execution_count": 40,
   "id": "proprietary-awareness",
   "metadata": {},
   "outputs": [
    {
     "name": "stdout",
     "output_type": "stream",
     "text": [
      "1 2 3\n"
     ]
    }
   ],
   "source": [
    "a, b, c = 1, 2, 3\n",
    "print(a, b, c)"
   ]
  },
  {
   "cell_type": "markdown",
   "id": "latin-pepper",
   "metadata": {},
   "source": [
    "## Arrays"
   ]
  },
  {
   "cell_type": "markdown",
   "id": "banner-ottawa",
   "metadata": {},
   "source": [
    "Using arrays only when you need to deal with a large sequence of numbers and you encounter performance problems that using and tuples lists cannot handle."
   ]
  },
  {
   "cell_type": "code",
   "execution_count": 1,
   "id": "incorporate-coverage",
   "metadata": {},
   "outputs": [
    {
     "name": "stdout",
     "output_type": "stream",
     "text": [
      "array('i', [1, 2, 5, 3, 4])\n"
     ]
    }
   ],
   "source": [
    "from array import array # from a module import a class\n",
    "numbers = array('i', [1, 2, 3]) # the first parameter is a typecode, which is a string that determines the type of objects in your array\n",
    "# search python3 typecode in Google, here 'i' refers to signed integer\n",
    "numbers.append(4)\n",
    "numbers.insert(2, 5)\n",
    "print(numbers)"
   ]
  },
  {
   "cell_type": "code",
   "execution_count": 2,
   "id": "worth-exhibition",
   "metadata": {},
   "outputs": [
    {
     "name": "stdout",
     "output_type": "stream",
     "text": [
      "array('i', [1, 2, 5, 3])\n"
     ]
    }
   ],
   "source": [
    "numbers.pop()\n",
    "print(numbers)"
   ]
  },
  {
   "cell_type": "code",
   "execution_count": 3,
   "id": "relative-facility",
   "metadata": {},
   "outputs": [
    {
     "name": "stdout",
     "output_type": "stream",
     "text": [
      "array('i', [1, 2, 5])\n"
     ]
    }
   ],
   "source": [
    "print(numbers[0:3])"
   ]
  },
  {
   "cell_type": "markdown",
   "id": "after-astronomy",
   "metadata": {},
   "source": [
    "However, every object in the array is typed."
   ]
  },
  {
   "cell_type": "code",
   "execution_count": 4,
   "id": "dimensional-chain",
   "metadata": {},
   "outputs": [
    {
     "ename": "TypeError",
     "evalue": "integer argument expected, got float",
     "output_type": "error",
     "traceback": [
      "\u001b[1;31m---------------------------------------------------------------------------\u001b[0m",
      "\u001b[1;31mTypeError\u001b[0m                                 Traceback (most recent call last)",
      "\u001b[1;32m<ipython-input-4-70f9b059f93d>\u001b[0m in \u001b[0;36m<module>\u001b[1;34m\u001b[0m\n\u001b[1;32m----> 1\u001b[1;33m \u001b[0mnumbers\u001b[0m\u001b[1;33m[\u001b[0m\u001b[1;36m0\u001b[0m\u001b[1;33m]\u001b[0m \u001b[1;33m=\u001b[0m \u001b[1;36m1.2\u001b[0m\u001b[1;33m\u001b[0m\u001b[1;33m\u001b[0m\u001b[0m\n\u001b[0m",
      "\u001b[1;31mTypeError\u001b[0m: integer argument expected, got float"
     ]
    }
   ],
   "source": [
    "numbers[0] = 1.2"
   ]
  },
  {
   "cell_type": "markdown",
   "id": "upper-chorus",
   "metadata": {},
   "source": [
    "## Sets"
   ]
  },
  {
   "cell_type": "markdown",
   "id": "accomplished-smith",
   "metadata": {},
   "source": [
    "Basically a collection with no duplicates."
   ]
  },
  {
   "cell_type": "code",
   "execution_count": 5,
   "id": "addressed-harmony",
   "metadata": {},
   "outputs": [
    {
     "name": "stdout",
     "output_type": "stream",
     "text": [
      "{1, 2, 3, 4}\n"
     ]
    }
   ],
   "source": [
    "numbers = [1, 1, 2, 3, 4]\n",
    "uniques = set(numbers)\n",
    "print(uniques)"
   ]
  },
  {
   "cell_type": "markdown",
   "id": "understood-flush",
   "metadata": {},
   "source": [
    "Using *{ }* to define a set."
   ]
  },
  {
   "cell_type": "code",
   "execution_count": null,
   "id": "bronze-music",
   "metadata": {},
   "outputs": [],
   "source": []
  }
 ],
 "metadata": {
  "kernelspec": {
   "display_name": "Python 3",
   "language": "python",
   "name": "python3"
  },
  "language_info": {
   "codemirror_mode": {
    "name": "ipython",
    "version": 3
   },
   "file_extension": ".py",
   "mimetype": "text/x-python",
   "name": "python",
   "nbconvert_exporter": "python",
   "pygments_lexer": "ipython3",
   "version": "3.7.6"
  }
 },
 "nbformat": 4,
 "nbformat_minor": 5
}
