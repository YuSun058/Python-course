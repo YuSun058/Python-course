{
 "metadata": {
  "language_info": {
   "codemirror_mode": {
    "name": "ipython",
    "version": 3
   },
   "file_extension": ".py",
   "mimetype": "text/x-python",
   "name": "python",
   "nbconvert_exporter": "python",
   "pygments_lexer": "ipython3",
   "version": "3.7.6-final"
  },
  "orig_nbformat": 2,
  "kernelspec": {
   "name": "python3",
   "display_name": "Python 3.7.6 64-bit ('Softwares': virtualenv)",
   "metadata": {
    "interpreter": {
     "hash": "e8fd100a2c8866ae2d3e8b85cd01e709724ac0af43a714c586c6afac94a5cb88"
    }
   }
  }
 },
 "nbformat": 4,
 "nbformat_minor": 2,
 "cells": [
  {
   "source": [
    "# Classes"
   ],
   "cell_type": "markdown",
   "metadata": {}
  },
  {
   "source": [
    "* Class: blueprint for creating new objects\n",
    "* Object: instance of a class \n",
    "\n",
    "For example, we have a class called *human*, and this class will define all the attributes of humans. Then we could create objects, like john, mary, jack and so on."
   ],
   "cell_type": "markdown",
   "metadata": {}
  },
  {
   "cell_type": "code",
   "execution_count": 1,
   "metadata": {},
   "outputs": [
    {
     "output_type": "stream",
     "name": "stdout",
     "text": [
      "<class 'int'>\n"
     ]
    }
   ],
   "source": [
    "x = 1\n",
    "print(type(x))"
   ]
  },
  {
   "source": [
    "How to create custom classes, like customer, shopping cart and point, etc."
   ],
   "cell_type": "markdown",
   "metadata": {}
  },
  {
   "source": [
    "## Creating Classes\n",
    "\n",
    "Convention: To name variables and functions, we use all lower case letters, and use an underscore to separate multiple words. However, when naming a class, the first letter of every word should be upper case, and we shouldn't use an underscore to separate multiple words.\n",
    "\n",
    "Examples: \n",
    "* Variable / function: my_point\n",
    "* Class: MyPoint"
   ],
   "cell_type": "markdown",
   "metadata": {}
  },
  {
   "cell_type": "code",
   "execution_count": 2,
   "metadata": {},
   "outputs": [],
   "source": [
    "class Point:\n",
    "    def draw(self):\n",
    "        print(\"draw\")"
   ]
  },
  {
   "cell_type": "code",
   "execution_count": 3,
   "metadata": {},
   "outputs": [
    {
     "output_type": "stream",
     "name": "stdout",
     "text": [
      "draw\n<class '__main__.Point'>\n"
     ]
    }
   ],
   "source": [
    "point = Point()\n",
    "point.draw()\n",
    "print(type(point))"
   ]
  },
  {
   "source": [
    "The above \"\\__main\\__\" is the name of a module, which we will show later in this course."
   ],
   "cell_type": "markdown",
   "metadata": {}
  },
  {
   "cell_type": "code",
   "execution_count": 4,
   "metadata": {},
   "outputs": [
    {
     "output_type": "execute_result",
     "data": {
      "text/plain": [
       "(True, False)"
      ]
     },
     "metadata": {},
     "execution_count": 4
    }
   ],
   "source": [
    "isinstance(point, Point), isinstance(point, int)"
   ]
  },
  {
   "source": [
    "## Constructors\n",
    "\n",
    "A class bundles data and functions related to that data into one unit. \n",
    "\n",
    "A constructor is a special method that is called when we create a new object."
   ],
   "cell_type": "markdown",
   "metadata": {}
  },
  {
   "cell_type": "code",
   "execution_count": 5,
   "metadata": {},
   "outputs": [
    {
     "output_type": "stream",
     "name": "stdout",
     "text": [
      "Point (1, 2)\n1\n"
     ]
    }
   ],
   "source": [
    "class Point:\n",
    "    def __init__(self, x, y):\n",
    "        self.x = x\n",
    "        self.y = y\n",
    "\n",
    "    def draw(self):\n",
    "        print(f\"Point ({self.x}, {self.y})\")\n",
    "\n",
    "point = Point(1, 2)\n",
    "point.draw()\n",
    "print(point.x)"
   ]
  },
  {
   "source": [
    "This magic method \"\\__init\\__\" is called a constructor. \"self\" is the reference to the current point object."
   ],
   "cell_type": "markdown",
   "metadata": {}
  },
  {
   "source": [
    "## Class vs Instance Attributes"
   ],
   "cell_type": "markdown",
   "metadata": {}
  },
  {
   "cell_type": "code",
   "execution_count": 6,
   "metadata": {},
   "outputs": [
    {
     "output_type": "stream",
     "name": "stdout",
     "text": [
      "Point (1, 2)\nPoint (3, 4)\n"
     ]
    }
   ],
   "source": [
    "class Point:\n",
    "    def __init__(self, x, y):\n",
    "        self.x = x\n",
    "        self.y = y\n",
    "\n",
    "    def draw(self):\n",
    "        print(f\"Point ({self.x}, {self.y})\")\n",
    "\n",
    "point = Point(1, 2)\n",
    "point.z = 10\n",
    "point.draw()\n",
    "\n",
    "another = Point(3, 4)\n",
    "another.draw()"
   ]
  },
  {
   "source": [
    "In the above, we can add an attribute (point.z) whenever we need. We defined two instances with different attributes x and y. \n",
    "\n",
    "In some cases, all instances of a class share some common attributes, like all humans have one head."
   ],
   "cell_type": "markdown",
   "metadata": {}
  },
  {
   "cell_type": "code",
   "execution_count": 7,
   "metadata": {},
   "outputs": [
    {
     "output_type": "stream",
     "name": "stdout",
     "text": [
      "red\nred\nPoint (1, 2)\nPoint (3, 4)\n"
     ]
    }
   ],
   "source": [
    "class Point:\n",
    "    default_color = \"red\"\n",
    "\n",
    "    def __init__(self, x, y):\n",
    "        self.x = x\n",
    "        self.y = y\n",
    "\n",
    "    def draw(self):\n",
    "        print(f\"Point ({self.x}, {self.y})\")\n",
    "\n",
    "point = Point(1, 2)\n",
    "print(point.default_color)\n",
    "print(Point.default_color)\n",
    "point.draw()\n",
    "\n",
    "another = Point(3, 4)\n",
    "another.draw()"
   ]
  },
  {
   "cell_type": "code",
   "execution_count": 8,
   "metadata": {},
   "outputs": [
    {
     "output_type": "stream",
     "name": "stdout",
     "text": [
      "yellow\nyellow\nPoint (1, 2)\nyellow\nPoint (3, 4)\n"
     ]
    }
   ],
   "source": [
    "Point.default_color = \"yellow\"\n",
    "\n",
    "point = Point(1, 2)\n",
    "print(point.default_color)\n",
    "print(Point.default_color)\n",
    "point.draw()\n",
    "\n",
    "another = Point(3, 4)\n",
    "print(another.default_color)\n",
    "another.draw()"
   ]
  },
  {
   "source": [
    "Class-level attributes are shared across all instances of that class."
   ],
   "cell_type": "markdown",
   "metadata": {}
  }
 ]
}