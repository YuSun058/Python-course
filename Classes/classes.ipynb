{
 "metadata": {
  "language_info": {
   "codemirror_mode": {
    "name": "ipython",
    "version": 3
   },
   "file_extension": ".py",
   "mimetype": "text/x-python",
   "name": "python",
   "nbconvert_exporter": "python",
   "pygments_lexer": "ipython3",
   "version": "3.7.6-final"
  },
  "orig_nbformat": 2,
  "kernelspec": {
   "name": "python3",
   "display_name": "Python 3.7.6 64-bit (conda)",
   "metadata": {
    "interpreter": {
     "hash": "e8fd100a2c8866ae2d3e8b85cd01e709724ac0af43a714c586c6afac94a5cb88"
    }
   }
  }
 },
 "nbformat": 4,
 "nbformat_minor": 2,
 "cells": [
  {
   "source": [
    "<p align=\"right\">Mar 3, 2021, Yu Sun</p>"
   ],
   "cell_type": "markdown",
   "metadata": {}
  },
  {
   "source": [
    "# Classes"
   ],
   "cell_type": "markdown",
   "metadata": {}
  },
  {
   "source": [
    "* Class: blueprint for creating new objects\n",
    "* Object: instance of a class \n",
    "\n",
    "For example, we have a class called *human*, and this class will define all the attributes of humans. Then we could create objects, like john, mary, jack and so on."
   ],
   "cell_type": "markdown",
   "metadata": {}
  },
  {
   "cell_type": "code",
   "execution_count": 1,
   "metadata": {},
   "outputs": [
    {
     "output_type": "stream",
     "name": "stdout",
     "text": [
      "<class 'int'>\n"
     ]
    }
   ],
   "source": [
    "x = 1\n",
    "print(type(x))"
   ]
  },
  {
   "source": [
    "How to create custom classes, like customer, shopping cart and point, etc."
   ],
   "cell_type": "markdown",
   "metadata": {}
  },
  {
   "source": [
    "## Creating Classes\n",
    "\n",
    "Convention: To name variables and functions, we use all lower case letters, and use an underscore to separate multiple words. However, when naming a class, the first letter of every word should be upper case, and we shouldn't use an underscore to separate multiple words.\n",
    "\n",
    "Examples: \n",
    "* Variable / function: my_point\n",
    "* Class: MyPoint"
   ],
   "cell_type": "markdown",
   "metadata": {}
  },
  {
   "cell_type": "code",
   "execution_count": 2,
   "metadata": {},
   "outputs": [],
   "source": [
    "class Point:\n",
    "    def draw(self):\n",
    "        print(\"draw\")"
   ]
  },
  {
   "cell_type": "code",
   "execution_count": 3,
   "metadata": {},
   "outputs": [
    {
     "output_type": "stream",
     "name": "stdout",
     "text": [
      "draw\n<class '__main__.Point'>\n"
     ]
    }
   ],
   "source": [
    "point = Point()\n",
    "point.draw()\n",
    "print(type(point))"
   ]
  },
  {
   "source": [
    "The above \"\\__main\\__\" is the name of a module, which we will show later in this course."
   ],
   "cell_type": "markdown",
   "metadata": {}
  },
  {
   "cell_type": "code",
   "execution_count": 4,
   "metadata": {},
   "outputs": [
    {
     "output_type": "execute_result",
     "data": {
      "text/plain": [
       "(True, False)"
      ]
     },
     "metadata": {},
     "execution_count": 4
    }
   ],
   "source": [
    "isinstance(point, Point), isinstance(point, int)"
   ]
  },
  {
   "source": [
    "## Constructors\n",
    "\n",
    "A class bundles data and functions related to that data into one unit. \n",
    "\n",
    "A constructor is a special method that is called when we create a new object."
   ],
   "cell_type": "markdown",
   "metadata": {}
  },
  {
   "cell_type": "code",
   "execution_count": 5,
   "metadata": {},
   "outputs": [
    {
     "output_type": "stream",
     "name": "stdout",
     "text": [
      "Point (1, 2)\n1\n"
     ]
    }
   ],
   "source": [
    "class Point:\n",
    "    def __init__(self, x, y):\n",
    "        self.x = x\n",
    "        self.y = y\n",
    "\n",
    "    def draw(self):\n",
    "        print(f\"Point ({self.x}, {self.y})\")\n",
    "\n",
    "point = Point(1, 2)\n",
    "point.draw()\n",
    "print(point.x)"
   ]
  },
  {
   "source": [
    "This magic method \"\\__init\\__\" is called a constructor. \"self\" is the reference to the current point object."
   ],
   "cell_type": "markdown",
   "metadata": {}
  },
  {
   "source": [
    "## Class vs Instance Attributes"
   ],
   "cell_type": "markdown",
   "metadata": {}
  },
  {
   "cell_type": "code",
   "execution_count": 6,
   "metadata": {},
   "outputs": [
    {
     "output_type": "stream",
     "name": "stdout",
     "text": [
      "Point (1, 2)\nPoint (3, 4)\n"
     ]
    }
   ],
   "source": [
    "class Point:\n",
    "    def __init__(self, x, y):\n",
    "        self.x = x\n",
    "        self.y = y\n",
    "\n",
    "    def draw(self):\n",
    "        print(f\"Point ({self.x}, {self.y})\")\n",
    "\n",
    "point = Point(1, 2)\n",
    "point.z = 10\n",
    "point.draw()\n",
    "\n",
    "another = Point(3, 4)\n",
    "another.draw()"
   ]
  },
  {
   "source": [
    "In the above, we can add an attribute (point.z) whenever we need. We defined two instances with different attributes x and y. \n",
    "\n",
    "In some cases, all instances of a class share some common attributes, like all humans have one head."
   ],
   "cell_type": "markdown",
   "metadata": {}
  },
  {
   "cell_type": "code",
   "execution_count": 7,
   "metadata": {},
   "outputs": [
    {
     "output_type": "stream",
     "name": "stdout",
     "text": [
      "red\nred\nPoint (1, 2)\nPoint (3, 4)\n"
     ]
    }
   ],
   "source": [
    "class Point:\n",
    "    default_color = \"red\"\n",
    "\n",
    "    def __init__(self, x, y):\n",
    "        self.x = x\n",
    "        self.y = y\n",
    "\n",
    "    def draw(self):\n",
    "        print(f\"Point ({self.x}, {self.y})\")\n",
    "\n",
    "point = Point(1, 2)\n",
    "print(point.default_color)\n",
    "print(Point.default_color)\n",
    "point.draw()\n",
    "\n",
    "another = Point(3, 4)\n",
    "another.draw()"
   ]
  },
  {
   "cell_type": "code",
   "execution_count": 8,
   "metadata": {},
   "outputs": [
    {
     "output_type": "stream",
     "name": "stdout",
     "text": [
      "yellow\n",
      "yellow\n",
      "Point (1, 2)\n",
      "yellow\n",
      "Point (3, 4)\n"
     ]
    }
   ],
   "source": [
    "Point.default_color = \"yellow\"\n",
    "\n",
    "point = Point(1, 2)\n",
    "print(point.default_color)\n",
    "print(Point.default_color)\n",
    "point.draw()\n",
    "\n",
    "another = Point(3, 4)\n",
    "print(another.default_color)\n",
    "another.draw()"
   ]
  },
  {
   "source": [
    "Class-level attributes are shared across all instances of that class."
   ],
   "cell_type": "markdown",
   "metadata": {}
  },
  {
   "source": [
    "___\n",
    "\n",
    "<p align=\"right\">Mar 4, 2021, Yu Sun</p>"
   ],
   "cell_type": "markdown",
   "metadata": {}
  },
  {
   "source": [
    "## Class vs Instance Methods"
   ],
   "cell_type": "markdown",
   "metadata": {}
  },
  {
   "cell_type": "code",
   "execution_count": 9,
   "metadata": {},
   "outputs": [
    {
     "output_type": "stream",
     "name": "stdout",
     "text": [
      "Point (1, 2)\n"
     ]
    }
   ],
   "source": [
    "class Point:\n",
    "    def __init__(self, x, y):\n",
    "        self.x = x\n",
    "        self.y = y\n",
    "\n",
    "    def draw(self):\n",
    "        print(f\"Point ({self.x}, {self.y})\")\n",
    "\n",
    "point = Point(1, 2)\n",
    "point.draw()"
   ]
  },
  {
   "source": [
    "In the above example, both these methods that we have defined in the Point class are instance methods, so we can call them using an instance of the point class, like `point.draw()`. \n",
    "\n",
    "But there are times that you don't really need an existing object, and that's when we use a class method. For example, let's say in our program, there are a lot of cases where we want to create a point with initial values (0, 0). "
   ],
   "cell_type": "markdown",
   "metadata": {}
  },
  {
   "cell_type": "code",
   "execution_count": 10,
   "metadata": {},
   "outputs": [
    {
     "output_type": "stream",
     "name": "stdout",
     "text": [
      "Point (0, 0)\n"
     ]
    }
   ],
   "source": [
    "class Point:\n",
    "    def __init__(self, x, y):\n",
    "        self.x = x\n",
    "        self.y = y\n",
    "\n",
    "    @classmethod \n",
    "    # this is called a decorator, a way to extend the behavior of a method or function\n",
    "    def zero(cls): # 'cls' is short for 'class', which is a reference for a class\n",
    "        return cls(0, 0) # exactly like calling 'Point(0, 0)'\n",
    "\n",
    "\n",
    "    def draw(self):\n",
    "        print(f\"Point ({self.x}, {self.y})\")\n",
    "\n",
    "# point = Point(0, 0) # this is a way to get an object with values (0, 0)\n",
    "point = Point.zero() \n",
    "point.draw()"
   ]
  },
  {
   "source": [
    "In above, we refer to this zero method as a factory method, because it's like a factory, it creates a new object. In some cases, when we need to repeatedly generate some objects with some magical values, like \"Point(0, 0, 'a', 'good')\", using the above class method is a good alternative way."
   ],
   "cell_type": "markdown",
   "metadata": {}
  },
  {
   "source": [
    "## Magic Methods"
   ],
   "cell_type": "markdown",
   "metadata": {}
  },
  {
   "source": [
    "Magic methods are the methods that have two underscores at the beginning and end of their name, and they are called automatically by Python interpreter, depending on how we use our objects and classes.\n",
    "\n",
    "For example, in the 'Point' class, we have the `__init__()` magic method, we don't directly call it, it's called automatically by Python interpreter when we create a new point object. "
   ],
   "cell_type": "markdown",
   "metadata": {}
  },
  {
   "source": [
    "`__str__()` is a useful one, which is called when we try to convert an object to a string. Let's show how it works. "
   ],
   "cell_type": "markdown",
   "metadata": {}
  },
  {
   "cell_type": "code",
   "execution_count": 11,
   "metadata": {},
   "outputs": [
    {
     "output_type": "stream",
     "name": "stdout",
     "text": [
      "<__main__.Point object at 0x000002B6197A8208>\n"
     ]
    }
   ],
   "source": [
    "class Point:\n",
    "    def __init__(self, x, y):\n",
    "        self.x = x\n",
    "        self.y = y\n",
    "\n",
    "    def draw(self):\n",
    "        print(f\"Point ({self.x}, {self.y})\")\n",
    "\n",
    "point = Point(1, 2)\n",
    "print(point)"
   ]
  },
  {
   "source": [
    "If we print the above point object on the terminal, we get the name of our module followed by the class name, and the address of this point object in memory. This is the default implementation of the `__str__()` magic method in the point object. Now let's modify this magic method as follows,"
   ],
   "cell_type": "markdown",
   "metadata": {}
  },
  {
   "cell_type": "code",
   "execution_count": 12,
   "metadata": {},
   "outputs": [
    {
     "output_type": "stream",
     "name": "stdout",
     "text": [
      "(1, 2)\n(1, 2)\n"
     ]
    }
   ],
   "source": [
    "class Point:\n",
    "    def __init__(self, x, y):\n",
    "        self.x = x\n",
    "        self.y = y\n",
    "\n",
    "    def __str__(self):\n",
    "        return f\"({self.x}, {self.y})\"\n",
    "\n",
    "    def draw(self):\n",
    "        print(f\"Point ({self.x}, {self.y})\")\n",
    "\n",
    "point = Point(1, 2)\n",
    "print(point)\n",
    "print(str(point))"
   ]
  },
  {
   "source": [
    "we can get the values of the point object, which is same to the string conversion of this object."
   ],
   "cell_type": "markdown",
   "metadata": {}
  },
  {
   "source": [
    "`__init__()` and `__str__()` are two useful magic methods in Python. In this course, we'll also learn other magic methods. A guide to Python's magic methods can be accessed in https://rszalski.github.io/magicmethods/ ."
   ],
   "cell_type": "markdown",
   "metadata": {}
  },
  {
   "source": [
    "## Comparing Objects"
   ],
   "cell_type": "markdown",
   "metadata": {}
  },
  {
   "source": [
    "There are times that we need to compare two objects. For example, here are two point objects,"
   ],
   "cell_type": "markdown",
   "metadata": {}
  },
  {
   "cell_type": "code",
   "execution_count": 13,
   "metadata": {},
   "outputs": [
    {
     "output_type": "stream",
     "name": "stdout",
     "text": [
      "False\n"
     ]
    }
   ],
   "source": [
    "class Point:\n",
    "    def __init__(self, x, y):\n",
    "        self.x = x\n",
    "        self.y = y\n",
    "\n",
    "\n",
    "point = Point(1, 2)\n",
    "other = Point(1, 2)\n",
    "print(point == other)\n"
   ]
  },
  {
   "source": [
    "The reason we get False is that by default this equality operator compares the references or addresses of these two objects in memory. To solve this problem, we need a magic method. It's called when we compare two objects. https://rszalski.github.io/magicmethods/#comparisons"
   ],
   "cell_type": "markdown",
   "metadata": {}
  },
  {
   "cell_type": "code",
   "execution_count": 14,
   "metadata": {},
   "outputs": [
    {
     "output_type": "stream",
     "name": "stdout",
     "text": [
      "True\n"
     ]
    }
   ],
   "source": [
    "class Point:\n",
    "    def __init__(self, x, y):\n",
    "        self.x = x\n",
    "        self.y = y\n",
    "\n",
    "    def __eq__(self, other):\n",
    "        return self.x == other.x and self.y == other.y\n",
    "\n",
    "\n",
    "point = Point(1, 2)\n",
    "other = Point(1, 2)\n",
    "print(point == other)"
   ]
  },
  {
   "source": [
    "What about the $>$ operator?"
   ],
   "cell_type": "markdown",
   "metadata": {}
  },
  {
   "source": [
    "class Point:\n",
    "    def __init__(self, x, y):\n",
    "        self.x = x\n",
    "        self.y = y\n",
    "\n",
    "    def __eq__(self, other):\n",
    "        return self.x == other.x and self.y == other.y\n",
    "\n",
    "\n",
    "point = Point(1, 2)\n",
    "other = Point(1, 2)\n",
    "print(point > other)"
   ],
   "cell_type": "code",
   "metadata": {},
   "execution_count": 15,
   "outputs": [
    {
     "output_type": "error",
     "ename": "TypeError",
     "evalue": "'>' not supported between instances of 'Point' and 'Point'",
     "traceback": [
      "\u001b[1;31m---------------------------------------------------------------------------\u001b[0m",
      "\u001b[1;31mTypeError\u001b[0m                                 Traceback (most recent call last)",
      "\u001b[1;32m<ipython-input-15-6d6f688eab0b>\u001b[0m in \u001b[0;36m<module>\u001b[1;34m\u001b[0m\n\u001b[0;32m     10\u001b[0m \u001b[0mpoint\u001b[0m \u001b[1;33m=\u001b[0m \u001b[0mPoint\u001b[0m\u001b[1;33m(\u001b[0m\u001b[1;36m1\u001b[0m\u001b[1;33m,\u001b[0m \u001b[1;36m2\u001b[0m\u001b[1;33m)\u001b[0m\u001b[1;33m\u001b[0m\u001b[1;33m\u001b[0m\u001b[0m\n\u001b[0;32m     11\u001b[0m \u001b[0mother\u001b[0m \u001b[1;33m=\u001b[0m \u001b[0mPoint\u001b[0m\u001b[1;33m(\u001b[0m\u001b[1;36m1\u001b[0m\u001b[1;33m,\u001b[0m \u001b[1;36m2\u001b[0m\u001b[1;33m)\u001b[0m\u001b[1;33m\u001b[0m\u001b[1;33m\u001b[0m\u001b[0m\n\u001b[1;32m---> 12\u001b[1;33m \u001b[0mprint\u001b[0m\u001b[1;33m(\u001b[0m\u001b[0mpoint\u001b[0m \u001b[1;33m>\u001b[0m \u001b[0mother\u001b[0m\u001b[1;33m)\u001b[0m\u001b[1;33m\u001b[0m\u001b[1;33m\u001b[0m\u001b[0m\n\u001b[0m",
      "\u001b[1;31mTypeError\u001b[0m: '>' not supported between instances of 'Point' and 'Point'"
     ]
    }
   ]
  },
  {
   "source": [
    "The solution is to define another magic method."
   ],
   "cell_type": "markdown",
   "metadata": {}
  },
  {
   "cell_type": "code",
   "execution_count": 16,
   "metadata": {},
   "outputs": [
    {
     "output_type": "stream",
     "name": "stdout",
     "text": [
      "True\n"
     ]
    }
   ],
   "source": [
    "class Point:\n",
    "    def __init__(self, x, y):\n",
    "        self.x = x\n",
    "        self.y = y\n",
    "\n",
    "    def __eq__(self, other):\n",
    "        return self.x == other.x and self.y == other.y\n",
    "\n",
    "    def __gt__(self, other):\n",
    "        return self.x > other.x and self.y > other.y\n",
    "\n",
    "\n",
    "point = Point(10, 20)\n",
    "other = Point(1, 2)\n",
    "print(point > other)"
   ]
  },
  {
   "source": [
    "What if we change $>$ to $<$?"
   ],
   "cell_type": "markdown",
   "metadata": {}
  },
  {
   "cell_type": "code",
   "execution_count": 17,
   "metadata": {},
   "outputs": [
    {
     "output_type": "stream",
     "name": "stdout",
     "text": [
      "False\n"
     ]
    }
   ],
   "source": [
    "print(point < other)"
   ]
  },
  {
   "source": [
    "As you see, we don't have to explicitly implement each of these operators, when you implement the greater than magic method, Python will automatically figure out what to do if you use the less than operator."
   ],
   "cell_type": "markdown",
   "metadata": {}
  },
  {
   "source": [
    "## Performing Arithmetic Operations"
   ],
   "cell_type": "markdown",
   "metadata": {}
  },
  {
   "source": [
    "What if we want to do arithmetic operations on the two point objects? We need to take advantage of some numeric magic methods, see https://rszalski.github.io/magicmethods/#numeric ."
   ],
   "cell_type": "markdown",
   "metadata": {}
  },
  {
   "cell_type": "code",
   "execution_count": 18,
   "metadata": {},
   "outputs": [
    {
     "output_type": "stream",
     "name": "stdout",
     "text": [
      "<__main__.Point object at 0x000002B619855F08>\n"
     ]
    }
   ],
   "source": [
    "class Point:\n",
    "    def __init__(self, x, y):\n",
    "        self.x = x\n",
    "        self.y = y\n",
    "\n",
    "    def __add__(self, other):\n",
    "        return Point(self.x + other.x, self.y + other.y)\n",
    "\n",
    "\n",
    "point = Point(10, 20)\n",
    "other = Point(1, 2)\n",
    "print(point + other)"
   ]
  },
  {
   "source": [
    "Here, we remove the `__str__()` magic mtehod, so we only get an address. To show we have successfully added two points together, "
   ],
   "cell_type": "markdown",
   "metadata": {}
  },
  {
   "cell_type": "code",
   "execution_count": 19,
   "metadata": {},
   "outputs": [
    {
     "output_type": "stream",
     "name": "stdout",
     "text": [
      "11 22\n"
     ]
    }
   ],
   "source": [
    "combined = point + other\n",
    "print(combined.x, combined.y)"
   ]
  },
  {
   "source": [
    "## Making Custom Containers"
   ],
   "cell_type": "markdown",
   "metadata": {}
  },
  {
   "source": [
    "We have learned lists, sets, dictionaries and so on, but there are times that we want to create our own custom container types. For example, here we have this class, *tagcloud*, with which we can keep track of the number of various tags on a blog. For example, how many articles do we have that are tagged with \"python\" or \"javascript\" and so on. "
   ],
   "cell_type": "markdown",
   "metadata": {}
  },
  {
   "source": [
    "```py\n",
    "class TagCloud:\n",
    "    ....... \n",
    "\n",
    "cloud = TagCloud()\n",
    "\n",
    "len(cloud) # get the number of items in this container\n",
    "cloud[\"python\"] = 10 # get an item by its key, also set that to some number\n",
    "for tag in cloud: # iterate over that container\n",
    "    print(tag)\n",
    "```"
   ],
   "cell_type": "markdown",
   "metadata": {}
  },
  {
   "source": [
    "We want to achieve these operations supported in this custom container type. How to implement a class like this?\n",
    "\n",
    "### add"
   ],
   "cell_type": "markdown",
   "metadata": {}
  },
  {
   "cell_type": "code",
   "execution_count": 20,
   "metadata": {},
   "outputs": [
    {
     "output_type": "stream",
     "name": "stdout",
     "text": [
      "{'python': 3}\n"
     ]
    }
   ],
   "source": [
    "class TagCloud:\n",
    "    def __init__(self): # first, define the constructor\n",
    "        self.tags = {} # we initialize the tags attribute to an empty dictionary\n",
    "\n",
    "    def add(self, tag):\n",
    "        '''\n",
    "        we should check to see if we have this tag in our dictionary. If we don't have it,         we are going to set its value to 1. Otherwise, we are going to increase it by 1.\n",
    "        '''\n",
    "        self.tags[tag] = self.tags.get(tag, 0) + 1 \n",
    "        # we use 'get' method in dictionary to get an item by its key, and supply a                 default value if we don't have that. Then we add 1 and set the value fot this              key. \n",
    "\n",
    "cloud = TagCloud()\n",
    "cloud.add(\"python\")\n",
    "cloud.add(\"python\")\n",
    "cloud.add(\"python\")\n",
    "print(cloud.tags)"
   ]
  },
  {
   "source": [
    "Why we create a custom class instead of using a plain dictionary? Because we want to make it a little bit smarter than a typical dictionary. What if we add the 'python' tag with a capital 'P'? It's the same tag as the lowercase python. "
   ],
   "cell_type": "markdown",
   "metadata": {}
  },
  {
   "cell_type": "code",
   "execution_count": 21,
   "metadata": {},
   "outputs": [
    {
     "output_type": "stream",
     "name": "stdout",
     "text": [
      "{'python': 2, 'Python': 1}\n"
     ]
    }
   ],
   "source": [
    "cloud = TagCloud()\n",
    "cloud.add(\"python\")\n",
    "cloud.add(\"Python\")\n",
    "cloud.add(\"python\")\n",
    "print(cloud.tags)"
   ]
  },
  {
   "source": [
    "That's not what we expect. We get two separate items. This is how a typical dictionary behaves. Let's take care of the case sensitivity as follows,"
   ],
   "cell_type": "markdown",
   "metadata": {}
  },
  {
   "cell_type": "code",
   "execution_count": 22,
   "metadata": {},
   "outputs": [
    {
     "output_type": "stream",
     "name": "stdout",
     "text": [
      "{'python': 3}\n"
     ]
    }
   ],
   "source": [
    "class TagCloud:\n",
    "    def __init__(self):\n",
    "        self.tags = {} \n",
    "\n",
    "    def add(self, tag):\n",
    "        self.tags[tag.lower()] = self.tags.get(tag.lower(), 0) + 1 \n",
    "\n",
    "\n",
    "cloud = TagCloud()\n",
    "cloud.add(\"python\")\n",
    "cloud.add(\"Python\")\n",
    "cloud.add(\"python\")\n",
    "print(cloud.tags)"
   ]
  },
  {
   "source": [
    "We can see now we no long worry about the lowercase or uppercase characters. All that complexity is encapsulated in the 'TagCloud' class. It's not visible to the rest of our program.\n",
    "\n",
    "Then, we want to read the count of a tag using square brackets like this, \n",
    "`cloud[\"python\"]`. To do this, we need to implement a magic method, called `__getitem__()`.  \n",
    "\n",
    "### getitem"
   ],
   "cell_type": "markdown",
   "metadata": {}
  },
  {
   "cell_type": "code",
   "execution_count": 23,
   "metadata": {},
   "outputs": [
    {
     "output_type": "stream",
     "name": "stdout",
     "text": [
      "0\n3\n{'python': 3}\n"
     ]
    }
   ],
   "source": [
    "class TagCloud:\n",
    "    def __init__(self):\n",
    "        self.tags = {} \n",
    "\n",
    "    def add(self, tag):\n",
    "        self.tags[tag.lower()] = self.tags.get(tag.lower(), 0) + 1 \n",
    "        # this get method is built in a dictionary\n",
    "\n",
    "    def __getitem__(self, tag): # __getitem(self, key)\n",
    "        return self.tags.get(tag.lower(), 0) # if we don't have it, return 0.\n",
    "\n",
    "cloud = TagCloud()\n",
    "print(cloud[\"python\"])\n",
    "cloud.add(\"python\")\n",
    "cloud.add(\"Python\")\n",
    "cloud.add(\"python\")\n",
    "print(cloud[\"python\"])\n",
    "print(cloud.tags)"
   ]
  },
  {
   "source": [
    "Now, as you can see, we can get the number of a given tag. We can't do this with a typical dictionary. If we don't have the 'python' tag, our typical dictionary will throw an error.\n",
    "\n",
    "\n",
    "### setitem  \n",
    "\n",
    "Let's take this to the next level. We also want to set a tag to some value. Another magic method called `__setitem__()` is needed."
   ],
   "cell_type": "markdown",
   "metadata": {}
  },
  {
   "cell_type": "code",
   "execution_count": 24,
   "metadata": {},
   "outputs": [
    {
     "output_type": "stream",
     "name": "stdout",
     "text": [
      "0\n12\n{'python': 12}\n"
     ]
    }
   ],
   "source": [
    "class TagCloud:\n",
    "    def __init__(self):\n",
    "        self.tags = {} \n",
    "\n",
    "    def add(self, tag):\n",
    "        self.tags[tag.lower()] = self.tags.get(tag.lower(), 0) + 1 \n",
    "        # this get method is built in a dictionary\n",
    "\n",
    "    def __getitem__(self, tag): # __getitem(self, key)\n",
    "        return self.tags.get(tag.lower(), 0) # if we don't have it, return 0.\n",
    "\n",
    "    def __setitem__(self, tag, count): # __setitem(self, key, value)\n",
    "        self.tags[tag.lower()] = count\n",
    "\n",
    "cloud = TagCloud()\n",
    "print(cloud[\"python\"])\n",
    "cloud[\"python\"] = 10\n",
    "cloud.add(\"python\")\n",
    "cloud.add(\"Python\")\n",
    "\n",
    "print(cloud[\"python\"])\n",
    "print(cloud.tags)"
   ]
  },
  {
   "source": [
    "### len  \n",
    "\n",
    "In order to be able to get the number of tags in this tag 'cloud', we should implement the `__len__()` magic method."
   ],
   "cell_type": "markdown",
   "metadata": {}
  },
  {
   "cell_type": "code",
   "execution_count": 25,
   "metadata": {},
   "outputs": [
    {
     "output_type": "stream",
     "name": "stdout",
     "text": [
      "2\n{'java': 1, 'python': 2}\n"
     ]
    }
   ],
   "source": [
    "class TagCloud:\n",
    "    def __init__(self):\n",
    "        self.tags = {} \n",
    "\n",
    "    def add(self, tag):\n",
    "        self.tags[tag.lower()] = self.tags.get(tag.lower(), 0) + 1 \n",
    "        # this get method is built in a dictionary\n",
    "\n",
    "    def __getitem__(self, tag): # __getitem(self, key)\n",
    "        return self.tags.get(tag.lower(), 0) # if we don't have it, return 0.\n",
    "\n",
    "    def __setitem__(self, tag, count): # __setitem(self, key, value)\n",
    "        self.tags[tag.lower()] = count\n",
    "\n",
    "    def __len__(self):\n",
    "        return len(self.tags) # len() is a built in function in Python\n",
    "\n",
    "cloud = TagCloud()\n",
    "\n",
    "cloud.add(\"java\")\n",
    "cloud.add(\"python\")\n",
    "cloud.add(\"Python\")\n",
    "print(len(cloud))\n",
    "print(cloud.tags)"
   ]
  },
  {
   "source": [
    "### iter\n",
    "\n",
    "Finally, to make it iterable, so that we can iterate over it using a for loop, we need to implement another magic method, called `__iter__()`."
   ],
   "cell_type": "markdown",
   "metadata": {}
  },
  {
   "cell_type": "code",
   "execution_count": 26,
   "metadata": {},
   "outputs": [
    {
     "output_type": "stream",
     "name": "stdout",
     "text": [
      "3\n{'matlab': 10, 'java': 1, 'python': 2}\n10 articles are tagged with Matlab.\n1 articles are tagged with Java.\n2 articles are tagged with Python.\n"
     ]
    }
   ],
   "source": [
    "class TagCloud:\n",
    "    def __init__(self):\n",
    "        self.tags = {} \n",
    "\n",
    "    def add(self, tag):\n",
    "        self.tags[tag.lower()] = self.tags.get(tag.lower(), 0) + 1 \n",
    "        # this get method is built in a dictionary\n",
    "\n",
    "    def __getitem__(self, tag): # __getitem(self, key)\n",
    "        return self.tags.get(tag.lower(), 0) # if we don't have it, return 0.\n",
    "\n",
    "    def __setitem__(self, tag, count): # __setitem(self, key, value)\n",
    "        self.tags[tag.lower()] = count\n",
    "\n",
    "    def __len__(self):\n",
    "        return len(self.tags) # len() is a built in function in Python\n",
    "\n",
    "    def __iter__(self):\n",
    "        return iter(self.tags) # also a built in function, returns an iterator object                                       which gives us one item at a time in a for loop.\n",
    "\n",
    "cloud = TagCloud()\n",
    "\n",
    "cloud[\"matlab\"] = 10\n",
    "cloud.add(\"java\")\n",
    "cloud.add(\"python\")\n",
    "cloud.add(\"Python\")\n",
    "print(len(cloud))\n",
    "print(cloud.tags)\n",
    "for tag in cloud:\n",
    "    print(f\"{cloud[tag]} articles are tagged with {tag.title()}.\")"
   ]
  },
  {
   "source": [
    "## Private Members\n",
    "\n",
    "The above 'TagCloud' class has a tiny problem.\n"
   ],
   "cell_type": "markdown",
   "metadata": {}
  },
  {
   "cell_type": "code",
   "execution_count": 27,
   "metadata": {},
   "outputs": [
    {
     "output_type": "stream",
     "name": "stdout",
     "text": [
      "3\n"
     ]
    }
   ],
   "source": [
    "cloud = TagCloud()\n",
    "\n",
    "cloud.add(\"python\")\n",
    "cloud.add(\"Python\")\n",
    "cloud.add(\"python\")\n",
    "print(cloud[\"PYTHON\"])"
   ]
  },
  {
   "source": [
    "The program works well. However, if we access the underlying dictionary of this class, our program is going to crash."
   ],
   "cell_type": "markdown",
   "metadata": {}
  },
  {
   "cell_type": "code",
   "execution_count": 28,
   "metadata": {},
   "outputs": [
    {
     "output_type": "stream",
     "name": "stdout",
     "text": [
      "{'python': 3}\n"
     ]
    }
   ],
   "source": [
    "print(cloud.tags)"
   ]
  },
  {
   "cell_type": "code",
   "execution_count": 29,
   "metadata": {},
   "outputs": [
    {
     "output_type": "error",
     "ename": "KeyError",
     "evalue": "'PYTHON'",
     "traceback": [
      "\u001b[1;31m---------------------------------------------------------------------------\u001b[0m",
      "\u001b[1;31mKeyError\u001b[0m                                  Traceback (most recent call last)",
      "\u001b[1;32m<ipython-input-29-0e24b627caac>\u001b[0m in \u001b[0;36m<module>\u001b[1;34m\u001b[0m\n\u001b[1;32m----> 1\u001b[1;33m \u001b[0mprint\u001b[0m\u001b[1;33m(\u001b[0m\u001b[0mcloud\u001b[0m\u001b[1;33m.\u001b[0m\u001b[0mtags\u001b[0m\u001b[1;33m[\u001b[0m\u001b[1;34m\"PYTHON\"\u001b[0m\u001b[1;33m]\u001b[0m\u001b[1;33m)\u001b[0m\u001b[1;33m\u001b[0m\u001b[1;33m\u001b[0m\u001b[0m\n\u001b[0m",
      "\u001b[1;31mKeyError\u001b[0m: 'PYTHON'"
     ]
    }
   ],
   "source": [
    "print(cloud.tags[\"PYTHON\"])"
   ]
  },
  {
   "source": [
    "We don't have this 'PYTHON' key in our dictionary, where everything is stored in lowercase. The problem with this class is that it gives us access to the underlying dictionary that is used to keep track of the count of text. To fix this problem, we need to hide this attribute from the outside, so we cannot access it."
   ],
   "cell_type": "markdown",
   "metadata": {}
  },
  {
   "cell_type": "code",
   "execution_count": 30,
   "metadata": {},
   "outputs": [],
   "source": [
    "class TagCloud:\n",
    "    def __init__(self):\n",
    "        self.__tags = {} \n",
    "\n",
    "    def add(self, tag):\n",
    "        self.__tags[tag.lower()] = self.__tags.get(tag.lower(), 0) + 1 \n",
    "        # this get method is built in a dictionary\n",
    "\n",
    "    def __getitem__(self, tag): # __getitem(self, key)\n",
    "        return self.__tags.get(tag.lower(), 0) # if we don't have it, return 0.\n",
    "\n",
    "    def __setitem__(self, tag, count): # __setitem(self, key, value)\n",
    "        self.__tags[tag.lower()] = count\n",
    "\n",
    "    def __len__(self):\n",
    "        return len(self.__tags) # len() is a built in function in Python\n",
    "\n",
    "    def __iter__(self):\n",
    "        return iter(self.__tags) # also a built in function, returns an iterator object                                       which gives us one item at a time in a for loop."
   ]
  },
  {
   "source": [
    "Rename `self.tags` to `self.__tags` to make it private."
   ],
   "cell_type": "markdown",
   "metadata": {}
  },
  {
   "cell_type": "code",
   "execution_count": 31,
   "metadata": {},
   "outputs": [
    {
     "output_type": "error",
     "ename": "AttributeError",
     "evalue": "'TagCloud' object has no attribute 'tags'",
     "traceback": [
      "\u001b[1;31m---------------------------------------------------------------------------\u001b[0m",
      "\u001b[1;31mAttributeError\u001b[0m                            Traceback (most recent call last)",
      "\u001b[1;32m<ipython-input-31-77821a655675>\u001b[0m in \u001b[0;36m<module>\u001b[1;34m\u001b[0m\n\u001b[0;32m      5\u001b[0m \u001b[0mcloud\u001b[0m\u001b[1;33m.\u001b[0m\u001b[0madd\u001b[0m\u001b[1;33m(\u001b[0m\u001b[1;34m\"python\"\u001b[0m\u001b[1;33m)\u001b[0m\u001b[1;33m\u001b[0m\u001b[1;33m\u001b[0m\u001b[0m\n\u001b[0;32m      6\u001b[0m \u001b[1;33m\u001b[0m\u001b[0m\n\u001b[1;32m----> 7\u001b[1;33m \u001b[0mprint\u001b[0m\u001b[1;33m(\u001b[0m\u001b[0mcloud\u001b[0m\u001b[1;33m.\u001b[0m\u001b[0mtags\u001b[0m\u001b[1;33m)\u001b[0m\u001b[1;33m\u001b[0m\u001b[1;33m\u001b[0m\u001b[0m\n\u001b[0m",
      "\u001b[1;31mAttributeError\u001b[0m: 'TagCloud' object has no attribute 'tags'"
     ]
    }
   ],
   "source": [
    "cloud = TagCloud()\n",
    "\n",
    "cloud.add(\"python\")\n",
    "cloud.add(\"Python\")\n",
    "cloud.add(\"python\")\n",
    "\n",
    "print(cloud.tags)"
   ]
  },
  {
   "cell_type": "code",
   "execution_count": 32,
   "metadata": {},
   "outputs": [
    {
     "output_type": "error",
     "ename": "AttributeError",
     "evalue": "'TagCloud' object has no attribute '__tags'",
     "traceback": [
      "\u001b[1;31m---------------------------------------------------------------------------\u001b[0m",
      "\u001b[1;31mAttributeError\u001b[0m                            Traceback (most recent call last)",
      "\u001b[1;32m<ipython-input-32-43e4935a7f47>\u001b[0m in \u001b[0;36m<module>\u001b[1;34m\u001b[0m\n\u001b[1;32m----> 1\u001b[1;33m \u001b[0mprint\u001b[0m\u001b[1;33m(\u001b[0m\u001b[0mcloud\u001b[0m\u001b[1;33m.\u001b[0m\u001b[0m__tags\u001b[0m\u001b[1;33m)\u001b[0m\u001b[1;33m\u001b[0m\u001b[1;33m\u001b[0m\u001b[0m\n\u001b[0m",
      "\u001b[1;31mAttributeError\u001b[0m: 'TagCloud' object has no attribute '__tags'"
     ]
    }
   ],
   "source": [
    "print(cloud.__tags)"
   ]
  },
  {
   "source": [
    "Now we can see that we no long could access the underlying attribute 'tags'. So this is how we can make certain attributes or certain methods in a class private. **If you prefix them with `__`, they are private.**"
   ],
   "cell_type": "markdown",
   "metadata": {}
  },
  {
   "source": [
    "Technically, these members are still accessible from the outside. It's just a little bie harder to access them. So the point of this practice is not security, it's more of a warning or alert to someone who is using this class. It's telling the consumer of this class, \"hey, don't touch this, this is private.\" So how you can still access this?"
   ],
   "cell_type": "markdown",
   "metadata": {}
  },
  {
   "cell_type": "code",
   "execution_count": 33,
   "metadata": {},
   "outputs": [
    {
     "output_type": "stream",
     "name": "stdout",
     "text": [
      "{'_TagCloud__tags': {'python': 1}}\n"
     ]
    }
   ],
   "source": [
    "cloud = TagCloud()\n",
    "\n",
    "cloud.add(\"python\")\n",
    "print(cloud.__dict__) # a dictionary that holds all the attributes in this class"
   ]
  },
  {
   "source": [
    "We can see in this class we have this attribute `_TagCloud__tags`."
   ],
   "cell_type": "markdown",
   "metadata": {}
  },
  {
   "cell_type": "code",
   "execution_count": 34,
   "metadata": {},
   "outputs": [
    {
     "output_type": "stream",
     "name": "stdout",
     "text": [
      "{'python': 1}\n"
     ]
    }
   ],
   "source": [
    "print(cloud._TagCloud__tags)"
   ]
  },
  {
   "source": [
    "So in Python, unlike C# or Java, we don't really have the concept of private members. These private members are still accessible from the outside. Using double underscore is more of a convention to prevent accidential access of these private members."
   ],
   "cell_type": "markdown",
   "metadata": {}
  }
 ]
}